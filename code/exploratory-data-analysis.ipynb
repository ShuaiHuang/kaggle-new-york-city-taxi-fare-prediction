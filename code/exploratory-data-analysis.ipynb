{
 "cells": [
  {
   "cell_type": "markdown",
   "metadata": {
    "collapsed": true
   },
   "source": [
    "# Exploratory Data Analysis"
   ]
  },
  {
   "cell_type": "code",
   "execution_count": 94,
   "metadata": {},
   "outputs": [],
   "source": [
    "import os\n",
    "import pandas as pd\n",
    "from matplotlib import pyplot as plt\n",
    "% matplotlib inline\n",
    "from mpl_toolkits.basemap import Basemap"
   ]
  },
  {
   "cell_type": "code",
   "execution_count": 95,
   "metadata": {},
   "outputs": [],
   "source": [
    "TRAIN_FILENAME = '../data/data-for-processing/cleaned_chunk_011_train.feather'\n",
    "TEST_FILENAME = '../data/data-for-processing/cleaned_test.feather'"
   ]
  },
  {
   "cell_type": "code",
   "execution_count": 96,
   "metadata": {},
   "outputs": [
    {
     "name": "stderr",
     "output_type": "stream",
     "text": [
      "/home/solomon/anaconda3/envs/py3/lib/python3.6/site-packages/pandas/io/feather_format.py:112: FutureWarning: `nthreads` argument is deprecated, pass `use_threads` instead\n",
      "  return feather.read_dataframe(path, nthreads=nthreads)\n"
     ]
    }
   ],
   "source": [
    "df = pd.read_feather(TRAIN_FILENAME)"
   ]
  },
  {
   "cell_type": "code",
   "execution_count": 97,
   "metadata": {},
   "outputs": [
    {
     "name": "stdout",
     "output_type": "stream",
     "text": [
      "<class 'pandas.core.frame.DataFrame'>\n",
      "RangeIndex: 423856 entries, 0 to 423855\n",
      "Data columns (total 19 columns):\n",
      "index                      423856 non-null int64\n",
      "key                        423856 non-null object\n",
      "fare_amount                423856 non-null float64\n",
      "pickup_datetime            423856 non-null object\n",
      "pickup_longitude           423856 non-null float64\n",
      "pickup_latitude            423856 non-null float64\n",
      "dropoff_longitude          423855 non-null float64\n",
      "dropoff_latitude           423855 non-null float64\n",
      "passenger_count            423856 non-null int64\n",
      "pickup_timezone            423856 non-null object\n",
      "pickup_datetime_obj        423856 non-null datetime64[ns]\n",
      "pickup_year                423856 non-null int64\n",
      "pickup_month               423856 non-null int64\n",
      "pickup_day                 423856 non-null int64\n",
      "pickup_hour                423856 non-null int64\n",
      "pickup_minute              423856 non-null int64\n",
      "pickup_second              423856 non-null int64\n",
      "pickup_weekday             423856 non-null int64\n",
      "pickup_dropoff_distance    423855 non-null float64\n",
      "dtypes: datetime64[ns](1), float64(6), int64(9), object(3)\n",
      "memory usage: 61.4+ MB\n"
     ]
    }
   ],
   "source": [
    "df.info()"
   ]
  },
  {
   "cell_type": "code",
   "execution_count": 98,
   "metadata": {},
   "outputs": [
    {
     "data": {
      "text/html": [
       "<div>\n",
       "<style scoped>\n",
       "    .dataframe tbody tr th:only-of-type {\n",
       "        vertical-align: middle;\n",
       "    }\n",
       "\n",
       "    .dataframe tbody tr th {\n",
       "        vertical-align: top;\n",
       "    }\n",
       "\n",
       "    .dataframe thead th {\n",
       "        text-align: right;\n",
       "    }\n",
       "</style>\n",
       "<table border=\"1\" class=\"dataframe\">\n",
       "  <thead>\n",
       "    <tr style=\"text-align: right;\">\n",
       "      <th></th>\n",
       "      <th>index</th>\n",
       "      <th>key</th>\n",
       "      <th>fare_amount</th>\n",
       "      <th>pickup_datetime</th>\n",
       "      <th>pickup_longitude</th>\n",
       "      <th>pickup_latitude</th>\n",
       "      <th>dropoff_longitude</th>\n",
       "      <th>dropoff_latitude</th>\n",
       "      <th>passenger_count</th>\n",
       "      <th>pickup_timezone</th>\n",
       "      <th>pickup_datetime_obj</th>\n",
       "      <th>pickup_year</th>\n",
       "      <th>pickup_month</th>\n",
       "      <th>pickup_day</th>\n",
       "      <th>pickup_hour</th>\n",
       "      <th>pickup_minute</th>\n",
       "      <th>pickup_second</th>\n",
       "      <th>pickup_weekday</th>\n",
       "      <th>pickup_dropoff_distance</th>\n",
       "    </tr>\n",
       "  </thead>\n",
       "  <tbody>\n",
       "    <tr>\n",
       "      <th>0</th>\n",
       "      <td>55000000</td>\n",
       "      <td>2009-06-30 09:25:00.00000094</td>\n",
       "      <td>6.5</td>\n",
       "      <td>2009-06-30 09:25:00 UTC</td>\n",
       "      <td>-73.990421</td>\n",
       "      <td>40.718843</td>\n",
       "      <td>-74.000060</td>\n",
       "      <td>40.727895</td>\n",
       "      <td>1</td>\n",
       "      <td>UTC</td>\n",
       "      <td>2009-06-30 09:25:00</td>\n",
       "      <td>2009</td>\n",
       "      <td>6</td>\n",
       "      <td>30</td>\n",
       "      <td>9</td>\n",
       "      <td>25</td>\n",
       "      <td>0</td>\n",
       "      <td>1</td>\n",
       "      <td>1.293418</td>\n",
       "    </tr>\n",
       "    <tr>\n",
       "      <th>1</th>\n",
       "      <td>55000001</td>\n",
       "      <td>2009-09-28 18:04:43.0000001</td>\n",
       "      <td>5.7</td>\n",
       "      <td>2009-09-28 18:04:43 UTC</td>\n",
       "      <td>-73.974759</td>\n",
       "      <td>40.749067</td>\n",
       "      <td>-73.983955</td>\n",
       "      <td>40.736129</td>\n",
       "      <td>1</td>\n",
       "      <td>UTC</td>\n",
       "      <td>2009-09-28 18:04:43</td>\n",
       "      <td>2009</td>\n",
       "      <td>9</td>\n",
       "      <td>28</td>\n",
       "      <td>18</td>\n",
       "      <td>4</td>\n",
       "      <td>43</td>\n",
       "      <td>0</td>\n",
       "      <td>1.633982</td>\n",
       "    </tr>\n",
       "    <tr>\n",
       "      <th>2</th>\n",
       "      <td>55000002</td>\n",
       "      <td>2010-05-22 22:54:51.0000003</td>\n",
       "      <td>10.9</td>\n",
       "      <td>2010-05-22 22:54:51 UTC</td>\n",
       "      <td>-73.981731</td>\n",
       "      <td>40.722242</td>\n",
       "      <td>-74.006415</td>\n",
       "      <td>40.708414</td>\n",
       "      <td>1</td>\n",
       "      <td>UTC</td>\n",
       "      <td>2010-05-22 22:54:51</td>\n",
       "      <td>2010</td>\n",
       "      <td>5</td>\n",
       "      <td>22</td>\n",
       "      <td>22</td>\n",
       "      <td>54</td>\n",
       "      <td>51</td>\n",
       "      <td>5</td>\n",
       "      <td>2.586945</td>\n",
       "    </tr>\n",
       "    <tr>\n",
       "      <th>3</th>\n",
       "      <td>55000003</td>\n",
       "      <td>2013-10-24 20:03:46.0000004</td>\n",
       "      <td>8.0</td>\n",
       "      <td>2013-10-24 20:03:46 UTC</td>\n",
       "      <td>-73.990378</td>\n",
       "      <td>40.751507</td>\n",
       "      <td>-74.005202</td>\n",
       "      <td>40.741458</td>\n",
       "      <td>2</td>\n",
       "      <td>UTC</td>\n",
       "      <td>2013-10-24 20:03:46</td>\n",
       "      <td>2013</td>\n",
       "      <td>10</td>\n",
       "      <td>24</td>\n",
       "      <td>20</td>\n",
       "      <td>3</td>\n",
       "      <td>46</td>\n",
       "      <td>3</td>\n",
       "      <td>1.675733</td>\n",
       "    </tr>\n",
       "    <tr>\n",
       "      <th>4</th>\n",
       "      <td>55000004</td>\n",
       "      <td>2013-12-20 00:52:00.00000041</td>\n",
       "      <td>9.5</td>\n",
       "      <td>2013-12-20 00:52:00 UTC</td>\n",
       "      <td>-73.977433</td>\n",
       "      <td>40.668257</td>\n",
       "      <td>-73.951930</td>\n",
       "      <td>40.683825</td>\n",
       "      <td>1</td>\n",
       "      <td>UTC</td>\n",
       "      <td>2013-12-20 00:52:00</td>\n",
       "      <td>2013</td>\n",
       "      <td>12</td>\n",
       "      <td>20</td>\n",
       "      <td>0</td>\n",
       "      <td>52</td>\n",
       "      <td>0</td>\n",
       "      <td>4</td>\n",
       "      <td>2.760821</td>\n",
       "    </tr>\n",
       "  </tbody>\n",
       "</table>\n",
       "</div>"
      ],
      "text/plain": [
       "      index                           key  fare_amount  \\\n",
       "0  55000000  2009-06-30 09:25:00.00000094          6.5   \n",
       "1  55000001   2009-09-28 18:04:43.0000001          5.7   \n",
       "2  55000002   2010-05-22 22:54:51.0000003         10.9   \n",
       "3  55000003   2013-10-24 20:03:46.0000004          8.0   \n",
       "4  55000004  2013-12-20 00:52:00.00000041          9.5   \n",
       "\n",
       "           pickup_datetime  pickup_longitude  pickup_latitude  \\\n",
       "0  2009-06-30 09:25:00 UTC        -73.990421        40.718843   \n",
       "1  2009-09-28 18:04:43 UTC        -73.974759        40.749067   \n",
       "2  2010-05-22 22:54:51 UTC        -73.981731        40.722242   \n",
       "3  2013-10-24 20:03:46 UTC        -73.990378        40.751507   \n",
       "4  2013-12-20 00:52:00 UTC        -73.977433        40.668257   \n",
       "\n",
       "   dropoff_longitude  dropoff_latitude  passenger_count pickup_timezone  \\\n",
       "0         -74.000060         40.727895                1             UTC   \n",
       "1         -73.983955         40.736129                1             UTC   \n",
       "2         -74.006415         40.708414                1             UTC   \n",
       "3         -74.005202         40.741458                2             UTC   \n",
       "4         -73.951930         40.683825                1             UTC   \n",
       "\n",
       "  pickup_datetime_obj  pickup_year  pickup_month  pickup_day  pickup_hour  \\\n",
       "0 2009-06-30 09:25:00         2009             6          30            9   \n",
       "1 2009-09-28 18:04:43         2009             9          28           18   \n",
       "2 2010-05-22 22:54:51         2010             5          22           22   \n",
       "3 2013-10-24 20:03:46         2013            10          24           20   \n",
       "4 2013-12-20 00:52:00         2013            12          20            0   \n",
       "\n",
       "   pickup_minute  pickup_second  pickup_weekday  pickup_dropoff_distance  \n",
       "0             25              0               1                 1.293418  \n",
       "1              4             43               0                 1.633982  \n",
       "2             54             51               5                 2.586945  \n",
       "3              3             46               3                 1.675733  \n",
       "4             52              0               4                 2.760821  "
      ]
     },
     "execution_count": 98,
     "metadata": {},
     "output_type": "execute_result"
    }
   ],
   "source": [
    "df.head()"
   ]
  },
  {
   "cell_type": "markdown",
   "metadata": {},
   "source": [
    "## Training Dataset\n",
    "\n",
    "### `fare_amount`\n",
    "\n",
    "- drop the record which has negative `fare_amount`"
   ]
  },
  {
   "cell_type": "code",
   "execution_count": 99,
   "metadata": {
    "scrolled": true
   },
   "outputs": [
    {
     "data": {
      "text/plain": [
       "count    423856.000000\n",
       "mean         11.331471\n",
       "std           9.689168\n",
       "min         -23.300000\n",
       "25%           6.000000\n",
       "50%           8.500000\n",
       "75%          12.500000\n",
       "max         300.000000\n",
       "Name: fare_amount, dtype: float64"
      ]
     },
     "execution_count": 99,
     "metadata": {},
     "output_type": "execute_result"
    }
   ],
   "source": [
    "df.loc[:, 'fare_amount'].describe()"
   ]
  },
  {
   "cell_type": "code",
   "execution_count": 100,
   "metadata": {
    "scrolled": true
   },
   "outputs": [
    {
     "data": {
      "text/html": [
       "<div>\n",
       "<style scoped>\n",
       "    .dataframe tbody tr th:only-of-type {\n",
       "        vertical-align: middle;\n",
       "    }\n",
       "\n",
       "    .dataframe tbody tr th {\n",
       "        vertical-align: top;\n",
       "    }\n",
       "\n",
       "    .dataframe thead th {\n",
       "        text-align: right;\n",
       "    }\n",
       "</style>\n",
       "<table border=\"1\" class=\"dataframe\">\n",
       "  <thead>\n",
       "    <tr style=\"text-align: right;\">\n",
       "      <th></th>\n",
       "      <th>index</th>\n",
       "      <th>key</th>\n",
       "      <th>fare_amount</th>\n",
       "      <th>pickup_datetime</th>\n",
       "      <th>pickup_longitude</th>\n",
       "      <th>pickup_latitude</th>\n",
       "      <th>dropoff_longitude</th>\n",
       "      <th>dropoff_latitude</th>\n",
       "      <th>passenger_count</th>\n",
       "      <th>pickup_timezone</th>\n",
       "      <th>pickup_datetime_obj</th>\n",
       "      <th>pickup_year</th>\n",
       "      <th>pickup_month</th>\n",
       "      <th>pickup_day</th>\n",
       "      <th>pickup_hour</th>\n",
       "      <th>pickup_minute</th>\n",
       "      <th>pickup_second</th>\n",
       "      <th>pickup_weekday</th>\n",
       "      <th>pickup_dropoff_distance</th>\n",
       "    </tr>\n",
       "  </thead>\n",
       "  <tbody>\n",
       "    <tr>\n",
       "      <th>5207</th>\n",
       "      <td>55005207</td>\n",
       "      <td>2010-03-19 05:28:10.0000001</td>\n",
       "      <td>-8.10</td>\n",
       "      <td>2010-03-19 05:28:10 UTC</td>\n",
       "      <td>-73.962717</td>\n",
       "      <td>40.799202</td>\n",
       "      <td>-73.951598</td>\n",
       "      <td>40.810265</td>\n",
       "      <td>5</td>\n",
       "      <td>UTC</td>\n",
       "      <td>2010-03-19 05:28:10</td>\n",
       "      <td>2010</td>\n",
       "      <td>3</td>\n",
       "      <td>19</td>\n",
       "      <td>5</td>\n",
       "      <td>28</td>\n",
       "      <td>10</td>\n",
       "      <td>4</td>\n",
       "      <td>1.545674</td>\n",
       "    </tr>\n",
       "    <tr>\n",
       "      <th>5652</th>\n",
       "      <td>55005652</td>\n",
       "      <td>2010-03-31 10:24:09.0000002</td>\n",
       "      <td>1.00</td>\n",
       "      <td>2010-03-31 10:24:09 UTC</td>\n",
       "      <td>-73.971016</td>\n",
       "      <td>40.766982</td>\n",
       "      <td>-73.972270</td>\n",
       "      <td>40.765434</td>\n",
       "      <td>1</td>\n",
       "      <td>UTC</td>\n",
       "      <td>2010-03-31 10:24:09</td>\n",
       "      <td>2010</td>\n",
       "      <td>3</td>\n",
       "      <td>31</td>\n",
       "      <td>10</td>\n",
       "      <td>24</td>\n",
       "      <td>9</td>\n",
       "      <td>2</td>\n",
       "      <td>0.201945</td>\n",
       "    </tr>\n",
       "    <tr>\n",
       "      <th>6615</th>\n",
       "      <td>55006615</td>\n",
       "      <td>2015-01-30 06:58:13.0000005</td>\n",
       "      <td>0.00</td>\n",
       "      <td>2015-01-30 06:58:13 UTC</td>\n",
       "      <td>-73.881561</td>\n",
       "      <td>40.882431</td>\n",
       "      <td>-73.885033</td>\n",
       "      <td>40.878910</td>\n",
       "      <td>1</td>\n",
       "      <td>UTC</td>\n",
       "      <td>2015-01-30 06:58:13</td>\n",
       "      <td>2015</td>\n",
       "      <td>1</td>\n",
       "      <td>30</td>\n",
       "      <td>6</td>\n",
       "      <td>58</td>\n",
       "      <td>13</td>\n",
       "      <td>4</td>\n",
       "      <td>0.488319</td>\n",
       "    </tr>\n",
       "    <tr>\n",
       "      <th>12281</th>\n",
       "      <td>55012281</td>\n",
       "      <td>2010-02-17 10:35:10.0000001</td>\n",
       "      <td>-7.70</td>\n",
       "      <td>2010-02-17 10:35:10 UTC</td>\n",
       "      <td>-73.993125</td>\n",
       "      <td>40.728045</td>\n",
       "      <td>-73.973427</td>\n",
       "      <td>40.753368</td>\n",
       "      <td>5</td>\n",
       "      <td>UTC</td>\n",
       "      <td>2010-02-17 10:35:10</td>\n",
       "      <td>2010</td>\n",
       "      <td>2</td>\n",
       "      <td>17</td>\n",
       "      <td>10</td>\n",
       "      <td>35</td>\n",
       "      <td>10</td>\n",
       "      <td>2</td>\n",
       "      <td>3.268446</td>\n",
       "    </tr>\n",
       "    <tr>\n",
       "      <th>33413</th>\n",
       "      <td>55033413</td>\n",
       "      <td>2015-02-25 20:36:15.0000002</td>\n",
       "      <td>0.00</td>\n",
       "      <td>2015-02-25 20:36:15 UTC</td>\n",
       "      <td>-73.876251</td>\n",
       "      <td>40.773167</td>\n",
       "      <td>-73.862396</td>\n",
       "      <td>40.765060</td>\n",
       "      <td>1</td>\n",
       "      <td>UTC</td>\n",
       "      <td>2015-02-25 20:36:15</td>\n",
       "      <td>2015</td>\n",
       "      <td>2</td>\n",
       "      <td>25</td>\n",
       "      <td>20</td>\n",
       "      <td>36</td>\n",
       "      <td>15</td>\n",
       "      <td>2</td>\n",
       "      <td>1.474391</td>\n",
       "    </tr>\n",
       "    <tr>\n",
       "      <th>48104</th>\n",
       "      <td>55048104</td>\n",
       "      <td>2015-04-04 21:51:54.0000002</td>\n",
       "      <td>0.00</td>\n",
       "      <td>2015-04-04 21:51:54 UTC</td>\n",
       "      <td>-73.995102</td>\n",
       "      <td>40.748699</td>\n",
       "      <td>-73.994965</td>\n",
       "      <td>40.748669</td>\n",
       "      <td>1</td>\n",
       "      <td>UTC</td>\n",
       "      <td>2015-04-04 21:51:54</td>\n",
       "      <td>2015</td>\n",
       "      <td>4</td>\n",
       "      <td>4</td>\n",
       "      <td>21</td>\n",
       "      <td>51</td>\n",
       "      <td>54</td>\n",
       "      <td>5</td>\n",
       "      <td>0.012056</td>\n",
       "    </tr>\n",
       "    <tr>\n",
       "      <th>53257</th>\n",
       "      <td>55053257</td>\n",
       "      <td>2010-03-19 08:30:10.0000004</td>\n",
       "      <td>-23.30</td>\n",
       "      <td>2010-03-19 08:30:10 UTC</td>\n",
       "      <td>-73.972758</td>\n",
       "      <td>40.756103</td>\n",
       "      <td>-73.942513</td>\n",
       "      <td>40.841975</td>\n",
       "      <td>1</td>\n",
       "      <td>UTC</td>\n",
       "      <td>2010-03-19 08:30:10</td>\n",
       "      <td>2010</td>\n",
       "      <td>3</td>\n",
       "      <td>19</td>\n",
       "      <td>8</td>\n",
       "      <td>30</td>\n",
       "      <td>10</td>\n",
       "      <td>4</td>\n",
       "      <td>9.882102</td>\n",
       "    </tr>\n",
       "    <tr>\n",
       "      <th>67795</th>\n",
       "      <td>55067795</td>\n",
       "      <td>2015-02-10 22:00:07.0000007</td>\n",
       "      <td>-2.50</td>\n",
       "      <td>2015-02-10 22:00:07 UTC</td>\n",
       "      <td>-73.987228</td>\n",
       "      <td>40.757633</td>\n",
       "      <td>-73.987175</td>\n",
       "      <td>40.757698</td>\n",
       "      <td>1</td>\n",
       "      <td>UTC</td>\n",
       "      <td>2015-02-10 22:00:07</td>\n",
       "      <td>2015</td>\n",
       "      <td>2</td>\n",
       "      <td>10</td>\n",
       "      <td>22</td>\n",
       "      <td>0</td>\n",
       "      <td>7</td>\n",
       "      <td>1</td>\n",
       "      <td>0.008499</td>\n",
       "    </tr>\n",
       "    <tr>\n",
       "      <th>73304</th>\n",
       "      <td>55073304</td>\n",
       "      <td>2010-03-22 22:37:00.00000032</td>\n",
       "      <td>0.11</td>\n",
       "      <td>2010-03-22 22:37:00 UTC</td>\n",
       "      <td>-73.793512</td>\n",
       "      <td>40.656922</td>\n",
       "      <td>-73.793508</td>\n",
       "      <td>40.656903</td>\n",
       "      <td>1</td>\n",
       "      <td>UTC</td>\n",
       "      <td>2010-03-22 22:37:00</td>\n",
       "      <td>2010</td>\n",
       "      <td>3</td>\n",
       "      <td>22</td>\n",
       "      <td>22</td>\n",
       "      <td>37</td>\n",
       "      <td>0</td>\n",
       "      <td>0</td>\n",
       "      <td>0.002139</td>\n",
       "    </tr>\n",
       "    <tr>\n",
       "      <th>84946</th>\n",
       "      <td>55084946</td>\n",
       "      <td>2010-03-17 12:31:10.0000001</td>\n",
       "      <td>0.00</td>\n",
       "      <td>2010-03-17 12:31:10 UTC</td>\n",
       "      <td>-73.937333</td>\n",
       "      <td>40.758253</td>\n",
       "      <td>-73.937333</td>\n",
       "      <td>40.758253</td>\n",
       "      <td>1</td>\n",
       "      <td>UTC</td>\n",
       "      <td>2010-03-17 12:31:10</td>\n",
       "      <td>2010</td>\n",
       "      <td>3</td>\n",
       "      <td>17</td>\n",
       "      <td>12</td>\n",
       "      <td>31</td>\n",
       "      <td>10</td>\n",
       "      <td>2</td>\n",
       "      <td>0.000000</td>\n",
       "    </tr>\n",
       "    <tr>\n",
       "      <th>87543</th>\n",
       "      <td>55087543</td>\n",
       "      <td>2013-08-13 15:58:00.000000102</td>\n",
       "      <td>1.50</td>\n",
       "      <td>2013-08-13 15:58:00 UTC</td>\n",
       "      <td>0.000000</td>\n",
       "      <td>0.000000</td>\n",
       "      <td>0.000000</td>\n",
       "      <td>0.000000</td>\n",
       "      <td>1</td>\n",
       "      <td>UTC</td>\n",
       "      <td>2013-08-13 15:58:00</td>\n",
       "      <td>2013</td>\n",
       "      <td>8</td>\n",
       "      <td>13</td>\n",
       "      <td>15</td>\n",
       "      <td>58</td>\n",
       "      <td>0</td>\n",
       "      <td>1</td>\n",
       "      <td>0.000000</td>\n",
       "    </tr>\n",
       "    <tr>\n",
       "      <th>99209</th>\n",
       "      <td>55099209</td>\n",
       "      <td>2010-02-26 14:12:27.0000001</td>\n",
       "      <td>0.00</td>\n",
       "      <td>2010-02-26 14:12:27 UTC</td>\n",
       "      <td>-73.972839</td>\n",
       "      <td>40.755844</td>\n",
       "      <td>-73.869899</td>\n",
       "      <td>40.772560</td>\n",
       "      <td>2</td>\n",
       "      <td>UTC</td>\n",
       "      <td>2010-02-26 14:12:27</td>\n",
       "      <td>2010</td>\n",
       "      <td>2</td>\n",
       "      <td>26</td>\n",
       "      <td>14</td>\n",
       "      <td>12</td>\n",
       "      <td>27</td>\n",
       "      <td>4</td>\n",
       "      <td>8.866559</td>\n",
       "    </tr>\n",
       "    <tr>\n",
       "      <th>107758</th>\n",
       "      <td>55107758</td>\n",
       "      <td>2015-06-14 21:04:40.0000005</td>\n",
       "      <td>0.01</td>\n",
       "      <td>2015-06-14 21:04:40 UTC</td>\n",
       "      <td>-73.122307</td>\n",
       "      <td>40.787441</td>\n",
       "      <td>-73.122307</td>\n",
       "      <td>40.787445</td>\n",
       "      <td>2</td>\n",
       "      <td>UTC</td>\n",
       "      <td>2015-06-14 21:04:40</td>\n",
       "      <td>2015</td>\n",
       "      <td>6</td>\n",
       "      <td>14</td>\n",
       "      <td>21</td>\n",
       "      <td>4</td>\n",
       "      <td>40</td>\n",
       "      <td>6</td>\n",
       "      <td>0.000424</td>\n",
       "    </tr>\n",
       "    <tr>\n",
       "      <th>112612</th>\n",
       "      <td>55112612</td>\n",
       "      <td>2015-05-20 19:55:22.0000002</td>\n",
       "      <td>-4.00</td>\n",
       "      <td>2015-05-20 19:55:22 UTC</td>\n",
       "      <td>-73.986679</td>\n",
       "      <td>40.767521</td>\n",
       "      <td>-73.989525</td>\n",
       "      <td>40.762646</td>\n",
       "      <td>2</td>\n",
       "      <td>UTC</td>\n",
       "      <td>2015-05-20 19:55:22</td>\n",
       "      <td>2015</td>\n",
       "      <td>5</td>\n",
       "      <td>20</td>\n",
       "      <td>19</td>\n",
       "      <td>55</td>\n",
       "      <td>22</td>\n",
       "      <td>2</td>\n",
       "      <td>0.592712</td>\n",
       "    </tr>\n",
       "    <tr>\n",
       "      <th>121298</th>\n",
       "      <td>55121298</td>\n",
       "      <td>2015-03-24 13:01:14.0000003</td>\n",
       "      <td>-4.00</td>\n",
       "      <td>2015-03-24 13:01:14 UTC</td>\n",
       "      <td>-73.995689</td>\n",
       "      <td>40.764320</td>\n",
       "      <td>-73.995651</td>\n",
       "      <td>40.764320</td>\n",
       "      <td>1</td>\n",
       "      <td>UTC</td>\n",
       "      <td>2015-03-24 13:01:14</td>\n",
       "      <td>2015</td>\n",
       "      <td>3</td>\n",
       "      <td>24</td>\n",
       "      <td>13</td>\n",
       "      <td>1</td>\n",
       "      <td>14</td>\n",
       "      <td>1</td>\n",
       "      <td>0.003213</td>\n",
       "    </tr>\n",
       "    <tr>\n",
       "      <th>131854</th>\n",
       "      <td>55131854</td>\n",
       "      <td>2015-02-24 16:31:52.0000006</td>\n",
       "      <td>-0.06</td>\n",
       "      <td>2015-02-24 16:31:52 UTC</td>\n",
       "      <td>-73.988281</td>\n",
       "      <td>40.765766</td>\n",
       "      <td>0.000000</td>\n",
       "      <td>0.000000</td>\n",
       "      <td>1</td>\n",
       "      <td>UTC</td>\n",
       "      <td>2015-02-24 16:31:52</td>\n",
       "      <td>2015</td>\n",
       "      <td>2</td>\n",
       "      <td>24</td>\n",
       "      <td>16</td>\n",
       "      <td>31</td>\n",
       "      <td>52</td>\n",
       "      <td>1</td>\n",
       "      <td>8666.684351</td>\n",
       "    </tr>\n",
       "    <tr>\n",
       "      <th>139906</th>\n",
       "      <td>55139906</td>\n",
       "      <td>2015-06-01 21:46:57.0000009</td>\n",
       "      <td>0.01</td>\n",
       "      <td>2015-06-01 21:46:57 UTC</td>\n",
       "      <td>-73.996986</td>\n",
       "      <td>40.689171</td>\n",
       "      <td>-73.996986</td>\n",
       "      <td>40.689171</td>\n",
       "      <td>1</td>\n",
       "      <td>UTC</td>\n",
       "      <td>2015-06-01 21:46:57</td>\n",
       "      <td>2015</td>\n",
       "      <td>6</td>\n",
       "      <td>1</td>\n",
       "      <td>21</td>\n",
       "      <td>46</td>\n",
       "      <td>57</td>\n",
       "      <td>0</td>\n",
       "      <td>0.000000</td>\n",
       "    </tr>\n",
       "    <tr>\n",
       "      <th>157009</th>\n",
       "      <td>55157009</td>\n",
       "      <td>2013-08-25 15:24:22.0000002</td>\n",
       "      <td>0.01</td>\n",
       "      <td>2013-08-25 15:24:22 UTC</td>\n",
       "      <td>-74.177632</td>\n",
       "      <td>40.695360</td>\n",
       "      <td>-74.177622</td>\n",
       "      <td>40.695375</td>\n",
       "      <td>1</td>\n",
       "      <td>UTC</td>\n",
       "      <td>2013-08-25 15:24:22</td>\n",
       "      <td>2013</td>\n",
       "      <td>8</td>\n",
       "      <td>25</td>\n",
       "      <td>15</td>\n",
       "      <td>24</td>\n",
       "      <td>22</td>\n",
       "      <td>6</td>\n",
       "      <td>0.001869</td>\n",
       "    </tr>\n",
       "    <tr>\n",
       "      <th>162410</th>\n",
       "      <td>55162410</td>\n",
       "      <td>2015-03-28 21:18:41.0000002</td>\n",
       "      <td>0.00</td>\n",
       "      <td>2015-03-28 21:18:41 UTC</td>\n",
       "      <td>-73.986389</td>\n",
       "      <td>40.747894</td>\n",
       "      <td>-74.027740</td>\n",
       "      <td>40.759815</td>\n",
       "      <td>2</td>\n",
       "      <td>UTC</td>\n",
       "      <td>2015-03-28 21:18:41</td>\n",
       "      <td>2015</td>\n",
       "      <td>3</td>\n",
       "      <td>28</td>\n",
       "      <td>21</td>\n",
       "      <td>18</td>\n",
       "      <td>41</td>\n",
       "      <td>5</td>\n",
       "      <td>3.726826</td>\n",
       "    </tr>\n",
       "    <tr>\n",
       "      <th>178831</th>\n",
       "      <td>55178831</td>\n",
       "      <td>2015-02-03 08:07:16.0000003</td>\n",
       "      <td>0.00</td>\n",
       "      <td>2015-02-03 08:07:16 UTC</td>\n",
       "      <td>-73.987778</td>\n",
       "      <td>40.733578</td>\n",
       "      <td>-73.987778</td>\n",
       "      <td>40.733578</td>\n",
       "      <td>1</td>\n",
       "      <td>UTC</td>\n",
       "      <td>2015-02-03 08:07:16</td>\n",
       "      <td>2015</td>\n",
       "      <td>2</td>\n",
       "      <td>3</td>\n",
       "      <td>8</td>\n",
       "      <td>7</td>\n",
       "      <td>16</td>\n",
       "      <td>1</td>\n",
       "      <td>0.000000</td>\n",
       "    </tr>\n",
       "    <tr>\n",
       "      <th>192826</th>\n",
       "      <td>55192826</td>\n",
       "      <td>2015-05-26 23:24:30.0000004</td>\n",
       "      <td>0.00</td>\n",
       "      <td>2015-05-26 23:24:30 UTC</td>\n",
       "      <td>-73.781120</td>\n",
       "      <td>40.646645</td>\n",
       "      <td>-73.794624</td>\n",
       "      <td>40.644745</td>\n",
       "      <td>1</td>\n",
       "      <td>UTC</td>\n",
       "      <td>2015-05-26 23:24:30</td>\n",
       "      <td>2015</td>\n",
       "      <td>5</td>\n",
       "      <td>26</td>\n",
       "      <td>23</td>\n",
       "      <td>24</td>\n",
       "      <td>30</td>\n",
       "      <td>1</td>\n",
       "      <td>1.158744</td>\n",
       "    </tr>\n",
       "    <tr>\n",
       "      <th>216200</th>\n",
       "      <td>55216200</td>\n",
       "      <td>2015-03-31 07:57:05.0000008</td>\n",
       "      <td>0.00</td>\n",
       "      <td>2015-03-31 07:57:05 UTC</td>\n",
       "      <td>-73.902046</td>\n",
       "      <td>40.763958</td>\n",
       "      <td>-73.902061</td>\n",
       "      <td>40.763996</td>\n",
       "      <td>6</td>\n",
       "      <td>UTC</td>\n",
       "      <td>2015-03-31 07:57:05</td>\n",
       "      <td>2015</td>\n",
       "      <td>3</td>\n",
       "      <td>31</td>\n",
       "      <td>7</td>\n",
       "      <td>57</td>\n",
       "      <td>5</td>\n",
       "      <td>1</td>\n",
       "      <td>0.004432</td>\n",
       "    </tr>\n",
       "    <tr>\n",
       "      <th>228171</th>\n",
       "      <td>55228171</td>\n",
       "      <td>2010-02-24 02:04:10.0000002</td>\n",
       "      <td>-12.90</td>\n",
       "      <td>2010-02-24 02:04:10 UTC</td>\n",
       "      <td>-73.987495</td>\n",
       "      <td>40.738285</td>\n",
       "      <td>-73.964023</td>\n",
       "      <td>40.765140</td>\n",
       "      <td>2</td>\n",
       "      <td>UTC</td>\n",
       "      <td>2010-02-24 02:04:10</td>\n",
       "      <td>2010</td>\n",
       "      <td>2</td>\n",
       "      <td>24</td>\n",
       "      <td>2</td>\n",
       "      <td>4</td>\n",
       "      <td>10</td>\n",
       "      <td>2</td>\n",
       "      <td>3.581372</td>\n",
       "    </tr>\n",
       "    <tr>\n",
       "      <th>228914</th>\n",
       "      <td>55228914</td>\n",
       "      <td>2013-08-21 15:09:10.0000002</td>\n",
       "      <td>-23.00</td>\n",
       "      <td>2013-08-21 15:09:10 UTC</td>\n",
       "      <td>-73.977225</td>\n",
       "      <td>40.779652</td>\n",
       "      <td>-73.980368</td>\n",
       "      <td>40.775327</td>\n",
       "      <td>1</td>\n",
       "      <td>UTC</td>\n",
       "      <td>2013-08-21 15:09:10</td>\n",
       "      <td>2013</td>\n",
       "      <td>8</td>\n",
       "      <td>21</td>\n",
       "      <td>15</td>\n",
       "      <td>9</td>\n",
       "      <td>10</td>\n",
       "      <td>2</td>\n",
       "      <td>0.548927</td>\n",
       "    </tr>\n",
       "    <tr>\n",
       "      <th>247015</th>\n",
       "      <td>55247015</td>\n",
       "      <td>2015-05-10 14:10:17.0000002</td>\n",
       "      <td>0.01</td>\n",
       "      <td>2015-05-10 14:10:17 UTC</td>\n",
       "      <td>-74.035683</td>\n",
       "      <td>40.724957</td>\n",
       "      <td>-74.035683</td>\n",
       "      <td>40.724957</td>\n",
       "      <td>1</td>\n",
       "      <td>UTC</td>\n",
       "      <td>2015-05-10 14:10:17</td>\n",
       "      <td>2015</td>\n",
       "      <td>5</td>\n",
       "      <td>10</td>\n",
       "      <td>14</td>\n",
       "      <td>10</td>\n",
       "      <td>17</td>\n",
       "      <td>6</td>\n",
       "      <td>0.000000</td>\n",
       "    </tr>\n",
       "    <tr>\n",
       "      <th>247833</th>\n",
       "      <td>55247833</td>\n",
       "      <td>2013-08-28 22:56:10.0000004</td>\n",
       "      <td>-2.50</td>\n",
       "      <td>2013-08-28 22:56:10 UTC</td>\n",
       "      <td>-73.978122</td>\n",
       "      <td>40.751222</td>\n",
       "      <td>-73.977488</td>\n",
       "      <td>40.750837</td>\n",
       "      <td>1</td>\n",
       "      <td>UTC</td>\n",
       "      <td>2013-08-28 22:56:10</td>\n",
       "      <td>2013</td>\n",
       "      <td>8</td>\n",
       "      <td>28</td>\n",
       "      <td>22</td>\n",
       "      <td>56</td>\n",
       "      <td>10</td>\n",
       "      <td>2</td>\n",
       "      <td>0.068446</td>\n",
       "    </tr>\n",
       "    <tr>\n",
       "      <th>249994</th>\n",
       "      <td>55249994</td>\n",
       "      <td>2015-01-07 03:00:36.0000002</td>\n",
       "      <td>-4.00</td>\n",
       "      <td>2015-01-07 03:00:36 UTC</td>\n",
       "      <td>-73.979630</td>\n",
       "      <td>40.752396</td>\n",
       "      <td>-73.979462</td>\n",
       "      <td>40.751541</td>\n",
       "      <td>1</td>\n",
       "      <td>UTC</td>\n",
       "      <td>2015-01-07 03:00:36</td>\n",
       "      <td>2015</td>\n",
       "      <td>1</td>\n",
       "      <td>7</td>\n",
       "      <td>3</td>\n",
       "      <td>0</td>\n",
       "      <td>36</td>\n",
       "      <td>2</td>\n",
       "      <td>0.096061</td>\n",
       "    </tr>\n",
       "    <tr>\n",
       "      <th>275527</th>\n",
       "      <td>55275527</td>\n",
       "      <td>2015-04-23 00:29:58.0000003</td>\n",
       "      <td>0.00</td>\n",
       "      <td>2015-04-23 00:29:58 UTC</td>\n",
       "      <td>-73.807480</td>\n",
       "      <td>40.656097</td>\n",
       "      <td>-73.801834</td>\n",
       "      <td>40.665859</td>\n",
       "      <td>1</td>\n",
       "      <td>UTC</td>\n",
       "      <td>2015-04-23 00:29:58</td>\n",
       "      <td>2015</td>\n",
       "      <td>4</td>\n",
       "      <td>23</td>\n",
       "      <td>0</td>\n",
       "      <td>29</td>\n",
       "      <td>58</td>\n",
       "      <td>3</td>\n",
       "      <td>1.185334</td>\n",
       "    </tr>\n",
       "    <tr>\n",
       "      <th>300207</th>\n",
       "      <td>55300207</td>\n",
       "      <td>2010-03-27 05:59:10.0000002</td>\n",
       "      <td>-17.30</td>\n",
       "      <td>2010-03-27 05:59:10 UTC</td>\n",
       "      <td>-73.988002</td>\n",
       "      <td>40.748412</td>\n",
       "      <td>-73.912038</td>\n",
       "      <td>40.745942</td>\n",
       "      <td>1</td>\n",
       "      <td>UTC</td>\n",
       "      <td>2010-03-27 05:59:10</td>\n",
       "      <td>2010</td>\n",
       "      <td>3</td>\n",
       "      <td>27</td>\n",
       "      <td>5</td>\n",
       "      <td>59</td>\n",
       "      <td>10</td>\n",
       "      <td>5</td>\n",
       "      <td>6.405171</td>\n",
       "    </tr>\n",
       "    <tr>\n",
       "      <th>319537</th>\n",
       "      <td>55319537</td>\n",
       "      <td>2010-03-31 10:13:10.0000002</td>\n",
       "      <td>-12.10</td>\n",
       "      <td>2010-03-31 10:13:10 UTC</td>\n",
       "      <td>-73.989360</td>\n",
       "      <td>40.772995</td>\n",
       "      <td>-73.947843</td>\n",
       "      <td>40.772062</td>\n",
       "      <td>1</td>\n",
       "      <td>UTC</td>\n",
       "      <td>2010-03-31 10:13:10</td>\n",
       "      <td>2010</td>\n",
       "      <td>3</td>\n",
       "      <td>31</td>\n",
       "      <td>10</td>\n",
       "      <td>13</td>\n",
       "      <td>10</td>\n",
       "      <td>2</td>\n",
       "      <td>3.497637</td>\n",
       "    </tr>\n",
       "    <tr>\n",
       "      <th>326598</th>\n",
       "      <td>55326598</td>\n",
       "      <td>2010-03-27 00:41:10.0000004</td>\n",
       "      <td>-19.30</td>\n",
       "      <td>2010-03-27 00:41:10 UTC</td>\n",
       "      <td>-73.984128</td>\n",
       "      <td>40.739660</td>\n",
       "      <td>-73.904713</td>\n",
       "      <td>40.772890</td>\n",
       "      <td>1</td>\n",
       "      <td>UTC</td>\n",
       "      <td>2010-03-27 00:41:10</td>\n",
       "      <td>2010</td>\n",
       "      <td>3</td>\n",
       "      <td>27</td>\n",
       "      <td>0</td>\n",
       "      <td>41</td>\n",
       "      <td>10</td>\n",
       "      <td>5</td>\n",
       "      <td>7.641784</td>\n",
       "    </tr>\n",
       "    <tr>\n",
       "      <th>337328</th>\n",
       "      <td>55337328</td>\n",
       "      <td>2015-02-07 10:48:18.0000006</td>\n",
       "      <td>-2.50</td>\n",
       "      <td>2015-02-07 10:48:18 UTC</td>\n",
       "      <td>-73.961197</td>\n",
       "      <td>40.711250</td>\n",
       "      <td>-73.961517</td>\n",
       "      <td>40.711300</td>\n",
       "      <td>6</td>\n",
       "      <td>UTC</td>\n",
       "      <td>2015-02-07 10:48:18</td>\n",
       "      <td>2015</td>\n",
       "      <td>2</td>\n",
       "      <td>7</td>\n",
       "      <td>10</td>\n",
       "      <td>48</td>\n",
       "      <td>18</td>\n",
       "      <td>5</td>\n",
       "      <td>0.027565</td>\n",
       "    </tr>\n",
       "    <tr>\n",
       "      <th>360368</th>\n",
       "      <td>55360368</td>\n",
       "      <td>2015-06-21 00:32:32.0000004</td>\n",
       "      <td>-2.50</td>\n",
       "      <td>2015-06-21 00:32:32 UTC</td>\n",
       "      <td>-73.999550</td>\n",
       "      <td>40.738613</td>\n",
       "      <td>-73.999550</td>\n",
       "      <td>40.738613</td>\n",
       "      <td>1</td>\n",
       "      <td>UTC</td>\n",
       "      <td>2015-06-21 00:32:32</td>\n",
       "      <td>2015</td>\n",
       "      <td>6</td>\n",
       "      <td>21</td>\n",
       "      <td>0</td>\n",
       "      <td>32</td>\n",
       "      <td>32</td>\n",
       "      <td>6</td>\n",
       "      <td>0.000000</td>\n",
       "    </tr>\n",
       "    <tr>\n",
       "      <th>362314</th>\n",
       "      <td>55362314</td>\n",
       "      <td>2013-08-06 22:39:11.0000001</td>\n",
       "      <td>0.00</td>\n",
       "      <td>2013-08-06 22:39:11 UTC</td>\n",
       "      <td>-74.025086</td>\n",
       "      <td>40.750983</td>\n",
       "      <td>-74.028110</td>\n",
       "      <td>40.754945</td>\n",
       "      <td>1</td>\n",
       "      <td>UTC</td>\n",
       "      <td>2013-08-06 22:39:11</td>\n",
       "      <td>2013</td>\n",
       "      <td>8</td>\n",
       "      <td>6</td>\n",
       "      <td>22</td>\n",
       "      <td>39</td>\n",
       "      <td>11</td>\n",
       "      <td>1</td>\n",
       "      <td>0.508893</td>\n",
       "    </tr>\n",
       "    <tr>\n",
       "      <th>367495</th>\n",
       "      <td>55367495</td>\n",
       "      <td>2010-02-24 18:41:10.0000005</td>\n",
       "      <td>-3.70</td>\n",
       "      <td>2010-02-24 18:41:10 UTC</td>\n",
       "      <td>-73.978688</td>\n",
       "      <td>40.777598</td>\n",
       "      <td>-73.981663</td>\n",
       "      <td>40.774202</td>\n",
       "      <td>1</td>\n",
       "      <td>UTC</td>\n",
       "      <td>2010-02-24 18:41:10</td>\n",
       "      <td>2010</td>\n",
       "      <td>2</td>\n",
       "      <td>24</td>\n",
       "      <td>18</td>\n",
       "      <td>41</td>\n",
       "      <td>10</td>\n",
       "      <td>2</td>\n",
       "      <td>0.453155</td>\n",
       "    </tr>\n",
       "    <tr>\n",
       "      <th>374021</th>\n",
       "      <td>55374021</td>\n",
       "      <td>2015-04-27 15:05:42.0000002</td>\n",
       "      <td>0.00</td>\n",
       "      <td>2015-04-27 15:05:42 UTC</td>\n",
       "      <td>-73.994972</td>\n",
       "      <td>40.755409</td>\n",
       "      <td>-73.996040</td>\n",
       "      <td>40.755360</td>\n",
       "      <td>2</td>\n",
       "      <td>UTC</td>\n",
       "      <td>2015-04-27 15:05:42</td>\n",
       "      <td>2015</td>\n",
       "      <td>4</td>\n",
       "      <td>27</td>\n",
       "      <td>15</td>\n",
       "      <td>5</td>\n",
       "      <td>42</td>\n",
       "      <td>0</td>\n",
       "      <td>0.090137</td>\n",
       "    </tr>\n",
       "    <tr>\n",
       "      <th>392914</th>\n",
       "      <td>55392914</td>\n",
       "      <td>2010-03-11 14:07:53.0000001</td>\n",
       "      <td>0.00</td>\n",
       "      <td>2010-03-11 14:07:53 UTC</td>\n",
       "      <td>-73.799695</td>\n",
       "      <td>40.645405</td>\n",
       "      <td>-73.787530</td>\n",
       "      <td>40.645692</td>\n",
       "      <td>1</td>\n",
       "      <td>UTC</td>\n",
       "      <td>2010-03-11 14:07:53</td>\n",
       "      <td>2010</td>\n",
       "      <td>3</td>\n",
       "      <td>11</td>\n",
       "      <td>14</td>\n",
       "      <td>7</td>\n",
       "      <td>53</td>\n",
       "      <td>3</td>\n",
       "      <td>1.026852</td>\n",
       "    </tr>\n",
       "    <tr>\n",
       "      <th>405531</th>\n",
       "      <td>55405531</td>\n",
       "      <td>2015-06-25 23:24:53.0000001</td>\n",
       "      <td>0.00</td>\n",
       "      <td>2015-06-25 23:24:53 UTC</td>\n",
       "      <td>-73.423531</td>\n",
       "      <td>40.782471</td>\n",
       "      <td>-73.421913</td>\n",
       "      <td>40.783890</td>\n",
       "      <td>1</td>\n",
       "      <td>UTC</td>\n",
       "      <td>2015-06-25 23:24:53</td>\n",
       "      <td>2015</td>\n",
       "      <td>6</td>\n",
       "      <td>25</td>\n",
       "      <td>23</td>\n",
       "      <td>24</td>\n",
       "      <td>53</td>\n",
       "      <td>3</td>\n",
       "      <td>0.208432</td>\n",
       "    </tr>\n",
       "  </tbody>\n",
       "</table>\n",
       "</div>"
      ],
      "text/plain": [
       "           index                            key  fare_amount  \\\n",
       "5207    55005207    2010-03-19 05:28:10.0000001        -8.10   \n",
       "5652    55005652    2010-03-31 10:24:09.0000002         1.00   \n",
       "6615    55006615    2015-01-30 06:58:13.0000005         0.00   \n",
       "12281   55012281    2010-02-17 10:35:10.0000001        -7.70   \n",
       "33413   55033413    2015-02-25 20:36:15.0000002         0.00   \n",
       "48104   55048104    2015-04-04 21:51:54.0000002         0.00   \n",
       "53257   55053257    2010-03-19 08:30:10.0000004       -23.30   \n",
       "67795   55067795    2015-02-10 22:00:07.0000007        -2.50   \n",
       "73304   55073304   2010-03-22 22:37:00.00000032         0.11   \n",
       "84946   55084946    2010-03-17 12:31:10.0000001         0.00   \n",
       "87543   55087543  2013-08-13 15:58:00.000000102         1.50   \n",
       "99209   55099209    2010-02-26 14:12:27.0000001         0.00   \n",
       "107758  55107758    2015-06-14 21:04:40.0000005         0.01   \n",
       "112612  55112612    2015-05-20 19:55:22.0000002        -4.00   \n",
       "121298  55121298    2015-03-24 13:01:14.0000003        -4.00   \n",
       "131854  55131854    2015-02-24 16:31:52.0000006        -0.06   \n",
       "139906  55139906    2015-06-01 21:46:57.0000009         0.01   \n",
       "157009  55157009    2013-08-25 15:24:22.0000002         0.01   \n",
       "162410  55162410    2015-03-28 21:18:41.0000002         0.00   \n",
       "178831  55178831    2015-02-03 08:07:16.0000003         0.00   \n",
       "192826  55192826    2015-05-26 23:24:30.0000004         0.00   \n",
       "216200  55216200    2015-03-31 07:57:05.0000008         0.00   \n",
       "228171  55228171    2010-02-24 02:04:10.0000002       -12.90   \n",
       "228914  55228914    2013-08-21 15:09:10.0000002       -23.00   \n",
       "247015  55247015    2015-05-10 14:10:17.0000002         0.01   \n",
       "247833  55247833    2013-08-28 22:56:10.0000004        -2.50   \n",
       "249994  55249994    2015-01-07 03:00:36.0000002        -4.00   \n",
       "275527  55275527    2015-04-23 00:29:58.0000003         0.00   \n",
       "300207  55300207    2010-03-27 05:59:10.0000002       -17.30   \n",
       "319537  55319537    2010-03-31 10:13:10.0000002       -12.10   \n",
       "326598  55326598    2010-03-27 00:41:10.0000004       -19.30   \n",
       "337328  55337328    2015-02-07 10:48:18.0000006        -2.50   \n",
       "360368  55360368    2015-06-21 00:32:32.0000004        -2.50   \n",
       "362314  55362314    2013-08-06 22:39:11.0000001         0.00   \n",
       "367495  55367495    2010-02-24 18:41:10.0000005        -3.70   \n",
       "374021  55374021    2015-04-27 15:05:42.0000002         0.00   \n",
       "392914  55392914    2010-03-11 14:07:53.0000001         0.00   \n",
       "405531  55405531    2015-06-25 23:24:53.0000001         0.00   \n",
       "\n",
       "                pickup_datetime  pickup_longitude  pickup_latitude  \\\n",
       "5207    2010-03-19 05:28:10 UTC        -73.962717        40.799202   \n",
       "5652    2010-03-31 10:24:09 UTC        -73.971016        40.766982   \n",
       "6615    2015-01-30 06:58:13 UTC        -73.881561        40.882431   \n",
       "12281   2010-02-17 10:35:10 UTC        -73.993125        40.728045   \n",
       "33413   2015-02-25 20:36:15 UTC        -73.876251        40.773167   \n",
       "48104   2015-04-04 21:51:54 UTC        -73.995102        40.748699   \n",
       "53257   2010-03-19 08:30:10 UTC        -73.972758        40.756103   \n",
       "67795   2015-02-10 22:00:07 UTC        -73.987228        40.757633   \n",
       "73304   2010-03-22 22:37:00 UTC        -73.793512        40.656922   \n",
       "84946   2010-03-17 12:31:10 UTC        -73.937333        40.758253   \n",
       "87543   2013-08-13 15:58:00 UTC          0.000000         0.000000   \n",
       "99209   2010-02-26 14:12:27 UTC        -73.972839        40.755844   \n",
       "107758  2015-06-14 21:04:40 UTC        -73.122307        40.787441   \n",
       "112612  2015-05-20 19:55:22 UTC        -73.986679        40.767521   \n",
       "121298  2015-03-24 13:01:14 UTC        -73.995689        40.764320   \n",
       "131854  2015-02-24 16:31:52 UTC        -73.988281        40.765766   \n",
       "139906  2015-06-01 21:46:57 UTC        -73.996986        40.689171   \n",
       "157009  2013-08-25 15:24:22 UTC        -74.177632        40.695360   \n",
       "162410  2015-03-28 21:18:41 UTC        -73.986389        40.747894   \n",
       "178831  2015-02-03 08:07:16 UTC        -73.987778        40.733578   \n",
       "192826  2015-05-26 23:24:30 UTC        -73.781120        40.646645   \n",
       "216200  2015-03-31 07:57:05 UTC        -73.902046        40.763958   \n",
       "228171  2010-02-24 02:04:10 UTC        -73.987495        40.738285   \n",
       "228914  2013-08-21 15:09:10 UTC        -73.977225        40.779652   \n",
       "247015  2015-05-10 14:10:17 UTC        -74.035683        40.724957   \n",
       "247833  2013-08-28 22:56:10 UTC        -73.978122        40.751222   \n",
       "249994  2015-01-07 03:00:36 UTC        -73.979630        40.752396   \n",
       "275527  2015-04-23 00:29:58 UTC        -73.807480        40.656097   \n",
       "300207  2010-03-27 05:59:10 UTC        -73.988002        40.748412   \n",
       "319537  2010-03-31 10:13:10 UTC        -73.989360        40.772995   \n",
       "326598  2010-03-27 00:41:10 UTC        -73.984128        40.739660   \n",
       "337328  2015-02-07 10:48:18 UTC        -73.961197        40.711250   \n",
       "360368  2015-06-21 00:32:32 UTC        -73.999550        40.738613   \n",
       "362314  2013-08-06 22:39:11 UTC        -74.025086        40.750983   \n",
       "367495  2010-02-24 18:41:10 UTC        -73.978688        40.777598   \n",
       "374021  2015-04-27 15:05:42 UTC        -73.994972        40.755409   \n",
       "392914  2010-03-11 14:07:53 UTC        -73.799695        40.645405   \n",
       "405531  2015-06-25 23:24:53 UTC        -73.423531        40.782471   \n",
       "\n",
       "        dropoff_longitude  dropoff_latitude  passenger_count pickup_timezone  \\\n",
       "5207           -73.951598         40.810265                5             UTC   \n",
       "5652           -73.972270         40.765434                1             UTC   \n",
       "6615           -73.885033         40.878910                1             UTC   \n",
       "12281          -73.973427         40.753368                5             UTC   \n",
       "33413          -73.862396         40.765060                1             UTC   \n",
       "48104          -73.994965         40.748669                1             UTC   \n",
       "53257          -73.942513         40.841975                1             UTC   \n",
       "67795          -73.987175         40.757698                1             UTC   \n",
       "73304          -73.793508         40.656903                1             UTC   \n",
       "84946          -73.937333         40.758253                1             UTC   \n",
       "87543            0.000000          0.000000                1             UTC   \n",
       "99209          -73.869899         40.772560                2             UTC   \n",
       "107758         -73.122307         40.787445                2             UTC   \n",
       "112612         -73.989525         40.762646                2             UTC   \n",
       "121298         -73.995651         40.764320                1             UTC   \n",
       "131854           0.000000          0.000000                1             UTC   \n",
       "139906         -73.996986         40.689171                1             UTC   \n",
       "157009         -74.177622         40.695375                1             UTC   \n",
       "162410         -74.027740         40.759815                2             UTC   \n",
       "178831         -73.987778         40.733578                1             UTC   \n",
       "192826         -73.794624         40.644745                1             UTC   \n",
       "216200         -73.902061         40.763996                6             UTC   \n",
       "228171         -73.964023         40.765140                2             UTC   \n",
       "228914         -73.980368         40.775327                1             UTC   \n",
       "247015         -74.035683         40.724957                1             UTC   \n",
       "247833         -73.977488         40.750837                1             UTC   \n",
       "249994         -73.979462         40.751541                1             UTC   \n",
       "275527         -73.801834         40.665859                1             UTC   \n",
       "300207         -73.912038         40.745942                1             UTC   \n",
       "319537         -73.947843         40.772062                1             UTC   \n",
       "326598         -73.904713         40.772890                1             UTC   \n",
       "337328         -73.961517         40.711300                6             UTC   \n",
       "360368         -73.999550         40.738613                1             UTC   \n",
       "362314         -74.028110         40.754945                1             UTC   \n",
       "367495         -73.981663         40.774202                1             UTC   \n",
       "374021         -73.996040         40.755360                2             UTC   \n",
       "392914         -73.787530         40.645692                1             UTC   \n",
       "405531         -73.421913         40.783890                1             UTC   \n",
       "\n",
       "       pickup_datetime_obj  pickup_year  pickup_month  pickup_day  \\\n",
       "5207   2010-03-19 05:28:10         2010             3          19   \n",
       "5652   2010-03-31 10:24:09         2010             3          31   \n",
       "6615   2015-01-30 06:58:13         2015             1          30   \n",
       "12281  2010-02-17 10:35:10         2010             2          17   \n",
       "33413  2015-02-25 20:36:15         2015             2          25   \n",
       "48104  2015-04-04 21:51:54         2015             4           4   \n",
       "53257  2010-03-19 08:30:10         2010             3          19   \n",
       "67795  2015-02-10 22:00:07         2015             2          10   \n",
       "73304  2010-03-22 22:37:00         2010             3          22   \n",
       "84946  2010-03-17 12:31:10         2010             3          17   \n",
       "87543  2013-08-13 15:58:00         2013             8          13   \n",
       "99209  2010-02-26 14:12:27         2010             2          26   \n",
       "107758 2015-06-14 21:04:40         2015             6          14   \n",
       "112612 2015-05-20 19:55:22         2015             5          20   \n",
       "121298 2015-03-24 13:01:14         2015             3          24   \n",
       "131854 2015-02-24 16:31:52         2015             2          24   \n",
       "139906 2015-06-01 21:46:57         2015             6           1   \n",
       "157009 2013-08-25 15:24:22         2013             8          25   \n",
       "162410 2015-03-28 21:18:41         2015             3          28   \n",
       "178831 2015-02-03 08:07:16         2015             2           3   \n",
       "192826 2015-05-26 23:24:30         2015             5          26   \n",
       "216200 2015-03-31 07:57:05         2015             3          31   \n",
       "228171 2010-02-24 02:04:10         2010             2          24   \n",
       "228914 2013-08-21 15:09:10         2013             8          21   \n",
       "247015 2015-05-10 14:10:17         2015             5          10   \n",
       "247833 2013-08-28 22:56:10         2013             8          28   \n",
       "249994 2015-01-07 03:00:36         2015             1           7   \n",
       "275527 2015-04-23 00:29:58         2015             4          23   \n",
       "300207 2010-03-27 05:59:10         2010             3          27   \n",
       "319537 2010-03-31 10:13:10         2010             3          31   \n",
       "326598 2010-03-27 00:41:10         2010             3          27   \n",
       "337328 2015-02-07 10:48:18         2015             2           7   \n",
       "360368 2015-06-21 00:32:32         2015             6          21   \n",
       "362314 2013-08-06 22:39:11         2013             8           6   \n",
       "367495 2010-02-24 18:41:10         2010             2          24   \n",
       "374021 2015-04-27 15:05:42         2015             4          27   \n",
       "392914 2010-03-11 14:07:53         2010             3          11   \n",
       "405531 2015-06-25 23:24:53         2015             6          25   \n",
       "\n",
       "        pickup_hour  pickup_minute  pickup_second  pickup_weekday  \\\n",
       "5207              5             28             10               4   \n",
       "5652             10             24              9               2   \n",
       "6615              6             58             13               4   \n",
       "12281            10             35             10               2   \n",
       "33413            20             36             15               2   \n",
       "48104            21             51             54               5   \n",
       "53257             8             30             10               4   \n",
       "67795            22              0              7               1   \n",
       "73304            22             37              0               0   \n",
       "84946            12             31             10               2   \n",
       "87543            15             58              0               1   \n",
       "99209            14             12             27               4   \n",
       "107758           21              4             40               6   \n",
       "112612           19             55             22               2   \n",
       "121298           13              1             14               1   \n",
       "131854           16             31             52               1   \n",
       "139906           21             46             57               0   \n",
       "157009           15             24             22               6   \n",
       "162410           21             18             41               5   \n",
       "178831            8              7             16               1   \n",
       "192826           23             24             30               1   \n",
       "216200            7             57              5               1   \n",
       "228171            2              4             10               2   \n",
       "228914           15              9             10               2   \n",
       "247015           14             10             17               6   \n",
       "247833           22             56             10               2   \n",
       "249994            3              0             36               2   \n",
       "275527            0             29             58               3   \n",
       "300207            5             59             10               5   \n",
       "319537           10             13             10               2   \n",
       "326598            0             41             10               5   \n",
       "337328           10             48             18               5   \n",
       "360368            0             32             32               6   \n",
       "362314           22             39             11               1   \n",
       "367495           18             41             10               2   \n",
       "374021           15              5             42               0   \n",
       "392914           14              7             53               3   \n",
       "405531           23             24             53               3   \n",
       "\n",
       "        pickup_dropoff_distance  \n",
       "5207                   1.545674  \n",
       "5652                   0.201945  \n",
       "6615                   0.488319  \n",
       "12281                  3.268446  \n",
       "33413                  1.474391  \n",
       "48104                  0.012056  \n",
       "53257                  9.882102  \n",
       "67795                  0.008499  \n",
       "73304                  0.002139  \n",
       "84946                  0.000000  \n",
       "87543                  0.000000  \n",
       "99209                  8.866559  \n",
       "107758                 0.000424  \n",
       "112612                 0.592712  \n",
       "121298                 0.003213  \n",
       "131854              8666.684351  \n",
       "139906                 0.000000  \n",
       "157009                 0.001869  \n",
       "162410                 3.726826  \n",
       "178831                 0.000000  \n",
       "192826                 1.158744  \n",
       "216200                 0.004432  \n",
       "228171                 3.581372  \n",
       "228914                 0.548927  \n",
       "247015                 0.000000  \n",
       "247833                 0.068446  \n",
       "249994                 0.096061  \n",
       "275527                 1.185334  \n",
       "300207                 6.405171  \n",
       "319537                 3.497637  \n",
       "326598                 7.641784  \n",
       "337328                 0.027565  \n",
       "360368                 0.000000  \n",
       "362314                 0.508893  \n",
       "367495                 0.453155  \n",
       "374021                 0.090137  \n",
       "392914                 1.026852  \n",
       "405531                 0.208432  "
      ]
     },
     "execution_count": 100,
     "metadata": {},
     "output_type": "execute_result"
    }
   ],
   "source": [
    "df[df['fare_amount'] < 2.5]"
   ]
  },
  {
   "cell_type": "code",
   "execution_count": 101,
   "metadata": {
    "scrolled": true
   },
   "outputs": [
    {
     "name": "stdout",
     "output_type": "stream",
     "text": [
      "<class 'pandas.core.frame.DataFrame'>\n",
      "Int64Index: 423818 entries, 0 to 423855\n",
      "Data columns (total 19 columns):\n",
      "index                      423818 non-null int64\n",
      "key                        423818 non-null object\n",
      "fare_amount                423818 non-null float64\n",
      "pickup_datetime            423818 non-null object\n",
      "pickup_longitude           423818 non-null float64\n",
      "pickup_latitude            423818 non-null float64\n",
      "dropoff_longitude          423817 non-null float64\n",
      "dropoff_latitude           423817 non-null float64\n",
      "passenger_count            423818 non-null int64\n",
      "pickup_timezone            423818 non-null object\n",
      "pickup_datetime_obj        423818 non-null datetime64[ns]\n",
      "pickup_year                423818 non-null int64\n",
      "pickup_month               423818 non-null int64\n",
      "pickup_day                 423818 non-null int64\n",
      "pickup_hour                423818 non-null int64\n",
      "pickup_minute              423818 non-null int64\n",
      "pickup_second              423818 non-null int64\n",
      "pickup_weekday             423818 non-null int64\n",
      "pickup_dropoff_distance    423817 non-null float64\n",
      "dtypes: datetime64[ns](1), float64(6), int64(9), object(3)\n",
      "memory usage: 64.7+ MB\n"
     ]
    }
   ],
   "source": [
    "df = df[df['fare_amount'] >= 2.5]\n",
    "df.info()"
   ]
  },
  {
   "cell_type": "code",
   "execution_count": 102,
   "metadata": {
    "scrolled": true
   },
   "outputs": [
    {
     "data": {
      "text/plain": [
       "<matplotlib.axes._subplots.AxesSubplot at 0x7fd960e6a7b8>"
      ]
     },
     "execution_count": 102,
     "metadata": {},
     "output_type": "execute_result"
    },
    {
     "data": {
      "image/png": "[encoded data removed]",
      "text/plain": [
       "<Figure size 1008x216 with 1 Axes>"
      ]
     },
     "metadata": {},
     "output_type": "display_data"
    }
   ],
   "source": [
    "df['fare_amount'].plot.hist(bins=100, logy=True, figsize=[14, 3])"
   ]
  },
  {
   "cell_type": "markdown",
   "metadata": {},
   "source": [
    "### `pickup_datetime`\n",
    "\n",
    "- 进行如下拆分:\n",
    "    + `pickup_year`\n",
    "    + `pickup_month`\n",
    "    + `pickup_day`\n",
    "    + `pickup_hour`\n",
    "    + `pickup_min`\n",
    "    + `pickup_sec`\n",
    "    + `pickup_timezone`\n",
    "    + `pickup_weekday`\n",
    "- 根据实际情况, 每一年的路况和费用在发生变化, 因此预测时可以针对每一年分别建立起来模型\n",
    "- 考虑使用夏时令对UTC时间进行转换"
   ]
  },
  {
   "cell_type": "code",
   "execution_count": 103,
   "metadata": {
    "scrolled": true
   },
   "outputs": [
    {
     "data": {
      "text/plain": [
       "2012    68335\n",
       "2011    67469\n",
       "2013    66326\n",
       "2009    65064\n",
       "2010    63895\n",
       "2014    62878\n",
       "2015    29851\n",
       "Name: pickup_year, dtype: int64"
      ]
     },
     "execution_count": 103,
     "metadata": {},
     "output_type": "execute_result"
    }
   ],
   "source": [
    "df['pickup_year'].value_counts()"
   ]
  },
  {
   "cell_type": "code",
   "execution_count": 104,
   "metadata": {},
   "outputs": [
    {
     "data": {
      "text/plain": [
       "<matplotlib.axes._subplots.AxesSubplot at 0x7fd995fd4390>"
      ]
     },
     "execution_count": 104,
     "metadata": {},
     "output_type": "execute_result"
    },
    {
     "data": {
      "image/png": "[encoded data removed]",
      "text/plain": [
       "<Figure size 432x288 with 1 Axes>"
      ]
     },
     "metadata": {},
     "output_type": "display_data"
    }
   ],
   "source": [
    "df['pickup_year'].value_counts(sort=False).plot(kind='bar')"
   ]
  },
  {
   "cell_type": "code",
   "execution_count": 105,
   "metadata": {
    "scrolled": true
   },
   "outputs": [
    {
     "data": {
      "text/plain": [
       "<matplotlib.axes._subplots.AxesSubplot at 0x7fd968c61828>"
      ]
     },
     "execution_count": 105,
     "metadata": {},
     "output_type": "execute_result"
    },
    {
     "data": {
      "image/png": "[encoded data removed]",
      "text/plain": [
       "<Figure size 432x288 with 1 Axes>"
      ]
     },
     "metadata": {},
     "output_type": "display_data"
    }
   ],
   "source": [
    "df[df['pickup_year']==2009]['pickup_month'].value_counts(sort=False).plot(kind='bar')"
   ]
  },
  {
   "cell_type": "code",
   "execution_count": 106,
   "metadata": {
    "scrolled": true
   },
   "outputs": [
    {
     "data": {
      "text/plain": [
       "<matplotlib.axes._subplots.AxesSubplot at 0x7fd96de150f0>"
      ]
     },
     "execution_count": 106,
     "metadata": {},
     "output_type": "execute_result"
    },
    {
     "data": {
      "image/png": "[encoded data removed]",
      "text/plain": [
       "<Figure size 432x288 with 1 Axes>"
      ]
     },
     "metadata": {},
     "output_type": "display_data"
    }
   ],
   "source": [
    "df[df['pickup_year']==2010]['pickup_month'].value_counts(sort=False).plot(kind='bar')"
   ]
  },
  {
   "cell_type": "code",
   "execution_count": 107,
   "metadata": {
    "scrolled": true
   },
   "outputs": [
    {
     "data": {
      "text/plain": [
       "<matplotlib.axes._subplots.AxesSubplot at 0x7fd995f6b898>"
      ]
     },
     "execution_count": 107,
     "metadata": {},
     "output_type": "execute_result"
    },
    {
     "data": {
      "image/png": "[encoded data removed]",
      "text/plain": [
       "<Figure size 432x288 with 1 Axes>"
      ]
     },
     "metadata": {},
     "output_type": "display_data"
    }
   ],
   "source": [
    "df[df['pickup_year']==2011]['pickup_month'].value_counts(sort=False).plot(kind='bar')"
   ]
  },
  {
   "cell_type": "code",
   "execution_count": 108,
   "metadata": {
    "scrolled": true
   },
   "outputs": [
    {
     "data": {
      "text/plain": [
       "<matplotlib.axes._subplots.AxesSubplot at 0x7fd997193ba8>"
      ]
     },
     "execution_count": 108,
     "metadata": {},
     "output_type": "execute_result"
    },
    {
     "data": {
      "image/png": "[encoded data removed]",
      "text/plain": [
       "<Figure size 432x288 with 1 Axes>"
      ]
     },
     "metadata": {},
     "output_type": "display_data"
    }
   ],
   "source": [
    "df[df['pickup_year']==2012]['pickup_month'].value_counts(sort=False).plot(kind='bar')"
   ]
  },
  {
   "cell_type": "code",
   "execution_count": 109,
   "metadata": {
    "scrolled": true
   },
   "outputs": [
    {
     "data": {
      "text/plain": [
       "<matplotlib.axes._subplots.AxesSubplot at 0x7fd9970fcda0>"
      ]
     },
     "execution_count": 109,
     "metadata": {},
     "output_type": "execute_result"
    },
    {
     "data": {
      "image/png": "[encoded data removed]",
      "text/plain": [
       "<Figure size 432x288 with 1 Axes>"
      ]
     },
     "metadata": {},
     "output_type": "display_data"
    }
   ],
   "source": [
    "df[df['pickup_year']==2013]['pickup_month'].value_counts(sort=False).plot(kind='bar')"
   ]
  },
  {
   "cell_type": "code",
   "execution_count": 110,
   "metadata": {
    "scrolled": true
   },
   "outputs": [
    {
     "data": {
      "text/plain": [
       "<matplotlib.axes._subplots.AxesSubplot at 0x7fd99707a898>"
      ]
     },
     "execution_count": 110,
     "metadata": {},
     "output_type": "execute_result"
    },
    {
     "data": {
      "image/png": "[encoded data removed]",
      "text/plain": [
       "<Figure size 432x288 with 1 Axes>"
      ]
     },
     "metadata": {},
     "output_type": "display_data"
    }
   ],
   "source": [
    "df[df['pickup_year']==2014]['pickup_month'].value_counts(sort=False).plot(kind='bar')"
   ]
  },
  {
   "cell_type": "code",
   "execution_count": 111,
   "metadata": {
    "scrolled": false
   },
   "outputs": [
    {
     "data": {
      "text/plain": [
       "<matplotlib.axes._subplots.AxesSubplot at 0x7fd996ff8710>"
      ]
     },
     "execution_count": 111,
     "metadata": {},
     "output_type": "execute_result"
    },
    {
     "data": {
      "image/png": "[encoded data removed]",
      "text/plain": [
       "<Figure size 432x288 with 1 Axes>"
      ]
     },
     "metadata": {},
     "output_type": "display_data"
    }
   ],
   "source": [
    "df[df['pickup_year']==2015]['pickup_month'].value_counts(sort=False).plot(kind='bar')"
   ]
  },
  {
   "cell_type": "code",
   "execution_count": 112,
   "metadata": {},
   "outputs": [
    {
     "data": {
      "text/plain": [
       "<matplotlib.axes._subplots.AxesSubplot at 0x7fd996f67ac8>"
      ]
     },
     "execution_count": 112,
     "metadata": {},
     "output_type": "execute_result"
    },
    {
     "data": {
      "image/png": "[encoded data removed]",
      "text/plain": [
       "<Figure size 432x288 with 1 Axes>"
      ]
     },
     "metadata": {},
     "output_type": "display_data"
    }
   ],
   "source": [
    "df['pickup_hour'].value_counts(sort=False).plot(kind='bar')"
   ]
  },
  {
   "cell_type": "code",
   "execution_count": 113,
   "metadata": {},
   "outputs": [
    {
     "data": {
      "text/plain": [
       "<matplotlib.axes._subplots.AxesSubplot at 0x7fd996efff98>"
      ]
     },
     "execution_count": 113,
     "metadata": {},
     "output_type": "execute_result"
    },
    {
     "data": {
      "image/png": "[encoded data removed]",
      "text/plain": [
       "<Figure size 432x288 with 1 Axes>"
      ]
     },
     "metadata": {},
     "output_type": "display_data"
    }
   ],
   "source": [
    "df['pickup_timezone'].value_counts(sort=False).plot(kind='bar')"
   ]
  },
  {
   "cell_type": "code",
   "execution_count": 114,
   "metadata": {
    "scrolled": true
   },
   "outputs": [
    {
     "data": {
      "text/plain": [
       "<matplotlib.axes._subplots.AxesSubplot at 0x7fd99707ae80>"
      ]
     },
     "execution_count": 114,
     "metadata": {},
     "output_type": "execute_result"
    },
    {
     "data": {
      "image/png": "[encoded data removed]",
      "text/plain": [
       "<Figure size 432x288 with 1 Axes>"
      ]
     },
     "metadata": {},
     "output_type": "display_data"
    }
   ],
   "source": [
    "df['pickup_weekday'].value_counts(sort=False).plot(kind='bar')"
   ]
  },
  {
   "cell_type": "code",
   "execution_count": 115,
   "metadata": {
    "scrolled": true
   },
   "outputs": [
    {
     "data": {
      "text/plain": [
       "count    94152.000000\n",
       "mean        11.178659\n",
       "std          8.978000\n",
       "min          2.500000\n",
       "25%          6.100000\n",
       "50%          8.500000\n",
       "75%         12.900000\n",
       "max        255.500000\n",
       "Name: fare_amount, dtype: float64"
      ]
     },
     "execution_count": 115,
     "metadata": {},
     "output_type": "execute_result"
    }
   ],
   "source": [
    "df[df['pickup_hour'] >= 20]['fare_amount'].describe()"
   ]
  },
  {
   "cell_type": "markdown",
   "metadata": {},
   "source": [
    "### `pickup_longitude` and `pickup_latitude`\n",
    "\n",
    "- 清除掉明显超出纽约范围的记录"
   ]
  },
  {
   "cell_type": "code",
   "execution_count": 116,
   "metadata": {
    "scrolled": true
   },
   "outputs": [
    {
     "data": {
      "text/plain": [
       "count    423818.000000\n",
       "mean        -72.511436\n",
       "std          12.028693\n",
       "min       -2959.462187\n",
       "25%         -73.992129\n",
       "50%         -73.981833\n",
       "75%         -73.967089\n",
       "max          73.863260\n",
       "Name: pickup_longitude, dtype: float64"
      ]
     },
     "execution_count": 116,
     "metadata": {},
     "output_type": "execute_result"
    }
   ],
   "source": [
    "df['pickup_longitude'].describe()"
   ]
  },
  {
   "cell_type": "code",
   "execution_count": 117,
   "metadata": {
    "scrolled": true
   },
   "outputs": [
    {
     "data": {
      "text/plain": [
       "count    423818.000000\n",
       "mean         39.915190\n",
       "std           8.913492\n",
       "min       -2541.548795\n",
       "25%          40.734932\n",
       "50%          40.752676\n",
       "75%          40.767092\n",
       "max        2371.279908\n",
       "Name: pickup_latitude, dtype: float64"
      ]
     },
     "execution_count": 117,
     "metadata": {},
     "output_type": "execute_result"
    }
   ],
   "source": [
    "df['pickup_latitude'].describe()"
   ]
  },
  {
   "cell_type": "code",
   "execution_count": 118,
   "metadata": {
    "scrolled": true
   },
   "outputs": [
    {
     "data": {
      "text/plain": [
       "<matplotlib.axes._subplots.AxesSubplot at 0x7fd996df0128>"
      ]
     },
     "execution_count": 118,
     "metadata": {},
     "output_type": "execute_result"
    },
    {
     "data": {
      "image/png": "[encoded data removed]",
      "text/plain": [
       "<Figure size 1008x216 with 1 Axes>"
      ]
     },
     "metadata": {},
     "output_type": "display_data"
    }
   ],
   "source": [
    "df['pickup_longitude'].plot(kind='hist', bins=500, figsize=[14, 3], logy=True)"
   ]
  },
  {
   "cell_type": "code",
   "execution_count": 119,
   "metadata": {
    "scrolled": false
   },
   "outputs": [
    {
     "data": {
      "text/plain": [
       "<matplotlib.axes._subplots.AxesSubplot at 0x7fd9968c27f0>"
      ]
     },
     "execution_count": 119,
     "metadata": {},
     "output_type": "execute_result"
    },
    {
     "data": {
      "image/png": "[encoded data removed]",
      "text/plain": [
       "<Figure size 1008x216 with 1 Axes>"
      ]
     },
     "metadata": {},
     "output_type": "display_data"
    }
   ],
   "source": [
    "df['pickup_latitude'].plot(kind='hist', bins=500, figsize=[14, 3], logy=True)"
   ]
  },
  {
   "cell_type": "markdown",
   "metadata": {},
   "source": [
    "### `passenger_count`\n",
    "\n",
    "- 清除掉`passenger_count`为0的记录"
   ]
  },
  {
   "cell_type": "code",
   "execution_count": 120,
   "metadata": {},
   "outputs": [
    {
     "data": {
      "text/plain": [
       "1    293065\n",
       "2     62729\n",
       "5     30077\n",
       "3     18547\n",
       "4      9016\n",
       "6      8947\n",
       "0      1436\n",
       "9         1\n",
       "Name: passenger_count, dtype: int64"
      ]
     },
     "execution_count": 120,
     "metadata": {},
     "output_type": "execute_result"
    }
   ],
   "source": [
    "df['passenger_count'].value_counts()"
   ]
  },
  {
   "cell_type": "code",
   "execution_count": 121,
   "metadata": {
    "scrolled": false
   },
   "outputs": [
    {
     "data": {
      "text/plain": [
       "<matplotlib.axes._subplots.AxesSubplot at 0x7fd996241208>"
      ]
     },
     "execution_count": 121,
     "metadata": {},
     "output_type": "execute_result"
    },
    {
     "data": {
      "image/png": "[encoded data removed]",
      "text/plain": [
       "<Figure size 432x288 with 1 Axes>"
      ]
     },
     "metadata": {},
     "output_type": "display_data"
    }
   ],
   "source": [
    "df['passenger_count'].value_counts(sort=False).plot(kind='bar')"
   ]
  },
  {
   "cell_type": "markdown",
   "metadata": {},
   "source": [
    "## Testing Dataset"
   ]
  },
  {
   "cell_type": "code",
   "execution_count": 122,
   "metadata": {
    "scrolled": true
   },
   "outputs": [
    {
     "name": "stderr",
     "output_type": "stream",
     "text": [
      "/home/solomon/anaconda3/envs/py3/lib/python3.6/site-packages/pandas/io/feather_format.py:112: FutureWarning: `nthreads` argument is deprecated, pass `use_threads` instead\n",
      "  return feather.read_dataframe(path, nthreads=nthreads)\n"
     ]
    }
   ],
   "source": [
    "test_df = pd.read_feather(TEST_FILENAME)"
   ]
  },
  {
   "cell_type": "code",
   "execution_count": 123,
   "metadata": {},
   "outputs": [
    {
     "data": {
      "text/html": [
       "<div>\n",
       "<style scoped>\n",
       "    .dataframe tbody tr th:only-of-type {\n",
       "        vertical-align: middle;\n",
       "    }\n",
       "\n",
       "    .dataframe tbody tr th {\n",
       "        vertical-align: top;\n",
       "    }\n",
       "\n",
       "    .dataframe thead th {\n",
       "        text-align: right;\n",
       "    }\n",
       "</style>\n",
       "<table border=\"1\" class=\"dataframe\">\n",
       "  <thead>\n",
       "    <tr style=\"text-align: right;\">\n",
       "      <th></th>\n",
       "      <th>key</th>\n",
       "      <th>pickup_datetime</th>\n",
       "      <th>pickup_longitude</th>\n",
       "      <th>pickup_latitude</th>\n",
       "      <th>dropoff_longitude</th>\n",
       "      <th>dropoff_latitude</th>\n",
       "      <th>passenger_count</th>\n",
       "      <th>pickup_timezone</th>\n",
       "      <th>pickup_datetime_obj</th>\n",
       "      <th>pickup_year</th>\n",
       "      <th>pickup_month</th>\n",
       "      <th>pickup_day</th>\n",
       "      <th>pickup_hour</th>\n",
       "      <th>pickup_minute</th>\n",
       "      <th>pickup_second</th>\n",
       "      <th>pickup_weekday</th>\n",
       "      <th>pickup_dropoff_distance</th>\n",
       "    </tr>\n",
       "  </thead>\n",
       "  <tbody>\n",
       "    <tr>\n",
       "      <th>0</th>\n",
       "      <td>2015-01-27 13:08:24.0000002</td>\n",
       "      <td>2015-01-27 13:08:24 UTC</td>\n",
       "      <td>-73.973320</td>\n",
       "      <td>40.763805</td>\n",
       "      <td>-73.981430</td>\n",
       "      <td>40.743835</td>\n",
       "      <td>1</td>\n",
       "      <td>UTC</td>\n",
       "      <td>2015-01-27 13:08:24</td>\n",
       "      <td>2015</td>\n",
       "      <td>1</td>\n",
       "      <td>27</td>\n",
       "      <td>13</td>\n",
       "      <td>8</td>\n",
       "      <td>24</td>\n",
       "      <td>1</td>\n",
       "      <td>2.323260</td>\n",
       "    </tr>\n",
       "    <tr>\n",
       "      <th>1</th>\n",
       "      <td>2015-01-27 13:08:24.0000003</td>\n",
       "      <td>2015-01-27 13:08:24 UTC</td>\n",
       "      <td>-73.986862</td>\n",
       "      <td>40.719383</td>\n",
       "      <td>-73.998886</td>\n",
       "      <td>40.739201</td>\n",
       "      <td>1</td>\n",
       "      <td>UTC</td>\n",
       "      <td>2015-01-27 13:08:24</td>\n",
       "      <td>2015</td>\n",
       "      <td>1</td>\n",
       "      <td>27</td>\n",
       "      <td>13</td>\n",
       "      <td>8</td>\n",
       "      <td>24</td>\n",
       "      <td>1</td>\n",
       "      <td>2.425353</td>\n",
       "    </tr>\n",
       "    <tr>\n",
       "      <th>2</th>\n",
       "      <td>2011-10-08 11:53:44.0000002</td>\n",
       "      <td>2011-10-08 11:53:44 UTC</td>\n",
       "      <td>-73.982524</td>\n",
       "      <td>40.751260</td>\n",
       "      <td>-73.979654</td>\n",
       "      <td>40.746139</td>\n",
       "      <td>1</td>\n",
       "      <td>UTC</td>\n",
       "      <td>2011-10-08 11:53:44</td>\n",
       "      <td>2011</td>\n",
       "      <td>10</td>\n",
       "      <td>8</td>\n",
       "      <td>11</td>\n",
       "      <td>53</td>\n",
       "      <td>44</td>\n",
       "      <td>5</td>\n",
       "      <td>0.618628</td>\n",
       "    </tr>\n",
       "    <tr>\n",
       "      <th>3</th>\n",
       "      <td>2012-12-01 21:12:12.0000002</td>\n",
       "      <td>2012-12-01 21:12:12 UTC</td>\n",
       "      <td>-73.981160</td>\n",
       "      <td>40.767807</td>\n",
       "      <td>-73.990448</td>\n",
       "      <td>40.751635</td>\n",
       "      <td>1</td>\n",
       "      <td>UTC</td>\n",
       "      <td>2012-12-01 21:12:12</td>\n",
       "      <td>2012</td>\n",
       "      <td>12</td>\n",
       "      <td>1</td>\n",
       "      <td>21</td>\n",
       "      <td>12</td>\n",
       "      <td>12</td>\n",
       "      <td>5</td>\n",
       "      <td>1.961033</td>\n",
       "    </tr>\n",
       "    <tr>\n",
       "      <th>4</th>\n",
       "      <td>2012-12-01 21:12:12.0000003</td>\n",
       "      <td>2012-12-01 21:12:12 UTC</td>\n",
       "      <td>-73.966046</td>\n",
       "      <td>40.789775</td>\n",
       "      <td>-73.988565</td>\n",
       "      <td>40.744427</td>\n",
       "      <td>1</td>\n",
       "      <td>UTC</td>\n",
       "      <td>2012-12-01 21:12:12</td>\n",
       "      <td>2012</td>\n",
       "      <td>12</td>\n",
       "      <td>1</td>\n",
       "      <td>21</td>\n",
       "      <td>12</td>\n",
       "      <td>12</td>\n",
       "      <td>5</td>\n",
       "      <td>5.387301</td>\n",
       "    </tr>\n",
       "  </tbody>\n",
       "</table>\n",
       "</div>"
      ],
      "text/plain": [
       "                           key          pickup_datetime  pickup_longitude  \\\n",
       "0  2015-01-27 13:08:24.0000002  2015-01-27 13:08:24 UTC        -73.973320   \n",
       "1  2015-01-27 13:08:24.0000003  2015-01-27 13:08:24 UTC        -73.986862   \n",
       "2  2011-10-08 11:53:44.0000002  2011-10-08 11:53:44 UTC        -73.982524   \n",
       "3  2012-12-01 21:12:12.0000002  2012-12-01 21:12:12 UTC        -73.981160   \n",
       "4  2012-12-01 21:12:12.0000003  2012-12-01 21:12:12 UTC        -73.966046   \n",
       "\n",
       "   pickup_latitude  dropoff_longitude  dropoff_latitude  passenger_count  \\\n",
       "0        40.763805         -73.981430         40.743835                1   \n",
       "1        40.719383         -73.998886         40.739201                1   \n",
       "2        40.751260         -73.979654         40.746139                1   \n",
       "3        40.767807         -73.990448         40.751635                1   \n",
       "4        40.789775         -73.988565         40.744427                1   \n",
       "\n",
       "  pickup_timezone pickup_datetime_obj  pickup_year  pickup_month  pickup_day  \\\n",
       "0             UTC 2015-01-27 13:08:24         2015             1          27   \n",
       "1             UTC 2015-01-27 13:08:24         2015             1          27   \n",
       "2             UTC 2011-10-08 11:53:44         2011            10           8   \n",
       "3             UTC 2012-12-01 21:12:12         2012            12           1   \n",
       "4             UTC 2012-12-01 21:12:12         2012            12           1   \n",
       "\n",
       "   pickup_hour  pickup_minute  pickup_second  pickup_weekday  \\\n",
       "0           13              8             24               1   \n",
       "1           13              8             24               1   \n",
       "2           11             53             44               5   \n",
       "3           21             12             12               5   \n",
       "4           21             12             12               5   \n",
       "\n",
       "   pickup_dropoff_distance  \n",
       "0                 2.323260  \n",
       "1                 2.425353  \n",
       "2                 0.618628  \n",
       "3                 1.961033  \n",
       "4                 5.387301  "
      ]
     },
     "execution_count": 123,
     "metadata": {},
     "output_type": "execute_result"
    }
   ],
   "source": [
    "test_df.head()"
   ]
  },
  {
   "cell_type": "code",
   "execution_count": 124,
   "metadata": {},
   "outputs": [
    {
     "data": {
      "text/html": [
       "<div>\n",
       "<style scoped>\n",
       "    .dataframe tbody tr th:only-of-type {\n",
       "        vertical-align: middle;\n",
       "    }\n",
       "\n",
       "    .dataframe tbody tr th {\n",
       "        vertical-align: top;\n",
       "    }\n",
       "\n",
       "    .dataframe thead th {\n",
       "        text-align: right;\n",
       "    }\n",
       "</style>\n",
       "<table border=\"1\" class=\"dataframe\">\n",
       "  <thead>\n",
       "    <tr style=\"text-align: right;\">\n",
       "      <th></th>\n",
       "      <th>pickup_longitude</th>\n",
       "      <th>pickup_latitude</th>\n",
       "      <th>dropoff_longitude</th>\n",
       "      <th>dropoff_latitude</th>\n",
       "      <th>passenger_count</th>\n",
       "      <th>pickup_year</th>\n",
       "      <th>pickup_month</th>\n",
       "      <th>pickup_day</th>\n",
       "      <th>pickup_hour</th>\n",
       "      <th>pickup_minute</th>\n",
       "      <th>pickup_second</th>\n",
       "      <th>pickup_weekday</th>\n",
       "      <th>pickup_dropoff_distance</th>\n",
       "    </tr>\n",
       "  </thead>\n",
       "  <tbody>\n",
       "    <tr>\n",
       "      <th>count</th>\n",
       "      <td>9914.000000</td>\n",
       "      <td>9914.000000</td>\n",
       "      <td>9914.000000</td>\n",
       "      <td>9914.000000</td>\n",
       "      <td>9914.000000</td>\n",
       "      <td>9914.000000</td>\n",
       "      <td>9914.000000</td>\n",
       "      <td>9914.000000</td>\n",
       "      <td>9914.000000</td>\n",
       "      <td>9914.000000</td>\n",
       "      <td>9914.000000</td>\n",
       "      <td>9914.000000</td>\n",
       "      <td>9914.000000</td>\n",
       "    </tr>\n",
       "    <tr>\n",
       "      <th>mean</th>\n",
       "      <td>-73.974722</td>\n",
       "      <td>40.751041</td>\n",
       "      <td>-73.973657</td>\n",
       "      <td>40.751743</td>\n",
       "      <td>1.671273</td>\n",
       "      <td>2011.815816</td>\n",
       "      <td>6.857979</td>\n",
       "      <td>16.194170</td>\n",
       "      <td>13.467420</td>\n",
       "      <td>29.548416</td>\n",
       "      <td>16.610853</td>\n",
       "      <td>2.852834</td>\n",
       "      <td>3.435371</td>\n",
       "    </tr>\n",
       "    <tr>\n",
       "      <th>std</th>\n",
       "      <td>0.042774</td>\n",
       "      <td>0.033541</td>\n",
       "      <td>0.039072</td>\n",
       "      <td>0.035435</td>\n",
       "      <td>1.278747</td>\n",
       "      <td>1.803347</td>\n",
       "      <td>3.353272</td>\n",
       "      <td>8.838482</td>\n",
       "      <td>6.868584</td>\n",
       "      <td>18.674818</td>\n",
       "      <td>19.571034</td>\n",
       "      <td>1.994451</td>\n",
       "      <td>3.972374</td>\n",
       "    </tr>\n",
       "    <tr>\n",
       "      <th>min</th>\n",
       "      <td>-74.252193</td>\n",
       "      <td>40.573143</td>\n",
       "      <td>-74.263242</td>\n",
       "      <td>40.568973</td>\n",
       "      <td>1.000000</td>\n",
       "      <td>2009.000000</td>\n",
       "      <td>1.000000</td>\n",
       "      <td>1.000000</td>\n",
       "      <td>0.000000</td>\n",
       "      <td>0.000000</td>\n",
       "      <td>0.000000</td>\n",
       "      <td>0.000000</td>\n",
       "      <td>0.000000</td>\n",
       "    </tr>\n",
       "    <tr>\n",
       "      <th>25%</th>\n",
       "      <td>-73.992501</td>\n",
       "      <td>40.736125</td>\n",
       "      <td>-73.991247</td>\n",
       "      <td>40.735254</td>\n",
       "      <td>1.000000</td>\n",
       "      <td>2010.000000</td>\n",
       "      <td>4.000000</td>\n",
       "      <td>9.000000</td>\n",
       "      <td>8.000000</td>\n",
       "      <td>13.000000</td>\n",
       "      <td>0.000000</td>\n",
       "      <td>1.000000</td>\n",
       "      <td>1.298277</td>\n",
       "    </tr>\n",
       "    <tr>\n",
       "      <th>50%</th>\n",
       "      <td>-73.982326</td>\n",
       "      <td>40.753051</td>\n",
       "      <td>-73.980015</td>\n",
       "      <td>40.754065</td>\n",
       "      <td>1.000000</td>\n",
       "      <td>2012.000000</td>\n",
       "      <td>7.000000</td>\n",
       "      <td>16.000000</td>\n",
       "      <td>15.000000</td>\n",
       "      <td>33.000000</td>\n",
       "      <td>6.000000</td>\n",
       "      <td>3.000000</td>\n",
       "      <td>2.217412</td>\n",
       "    </tr>\n",
       "    <tr>\n",
       "      <th>75%</th>\n",
       "      <td>-73.968013</td>\n",
       "      <td>40.767113</td>\n",
       "      <td>-73.964059</td>\n",
       "      <td>40.768757</td>\n",
       "      <td>2.000000</td>\n",
       "      <td>2014.000000</td>\n",
       "      <td>10.000000</td>\n",
       "      <td>25.000000</td>\n",
       "      <td>19.000000</td>\n",
       "      <td>45.000000</td>\n",
       "      <td>33.000000</td>\n",
       "      <td>5.000000</td>\n",
       "      <td>4.045302</td>\n",
       "    </tr>\n",
       "    <tr>\n",
       "      <th>max</th>\n",
       "      <td>-72.986532</td>\n",
       "      <td>41.709555</td>\n",
       "      <td>-72.990963</td>\n",
       "      <td>41.696683</td>\n",
       "      <td>6.000000</td>\n",
       "      <td>2015.000000</td>\n",
       "      <td>12.000000</td>\n",
       "      <td>31.000000</td>\n",
       "      <td>23.000000</td>\n",
       "      <td>59.000000</td>\n",
       "      <td>59.000000</td>\n",
       "      <td>6.000000</td>\n",
       "      <td>99.996040</td>\n",
       "    </tr>\n",
       "  </tbody>\n",
       "</table>\n",
       "</div>"
      ],
      "text/plain": [
       "       pickup_longitude  pickup_latitude  dropoff_longitude  dropoff_latitude  \\\n",
       "count       9914.000000      9914.000000        9914.000000       9914.000000   \n",
       "mean         -73.974722        40.751041         -73.973657         40.751743   \n",
       "std            0.042774         0.033541           0.039072          0.035435   \n",
       "min          -74.252193        40.573143         -74.263242         40.568973   \n",
       "25%          -73.992501        40.736125         -73.991247         40.735254   \n",
       "50%          -73.982326        40.753051         -73.980015         40.754065   \n",
       "75%          -73.968013        40.767113         -73.964059         40.768757   \n",
       "max          -72.986532        41.709555         -72.990963         41.696683   \n",
       "\n",
       "       passenger_count  pickup_year  pickup_month   pickup_day  pickup_hour  \\\n",
       "count      9914.000000  9914.000000   9914.000000  9914.000000  9914.000000   \n",
       "mean          1.671273  2011.815816      6.857979    16.194170    13.467420   \n",
       "std           1.278747     1.803347      3.353272     8.838482     6.868584   \n",
       "min           1.000000  2009.000000      1.000000     1.000000     0.000000   \n",
       "25%           1.000000  2010.000000      4.000000     9.000000     8.000000   \n",
       "50%           1.000000  2012.000000      7.000000    16.000000    15.000000   \n",
       "75%           2.000000  2014.000000     10.000000    25.000000    19.000000   \n",
       "max           6.000000  2015.000000     12.000000    31.000000    23.000000   \n",
       "\n",
       "       pickup_minute  pickup_second  pickup_weekday  pickup_dropoff_distance  \n",
       "count    9914.000000    9914.000000     9914.000000              9914.000000  \n",
       "mean       29.548416      16.610853        2.852834                 3.435371  \n",
       "std        18.674818      19.571034        1.994451                 3.972374  \n",
       "min         0.000000       0.000000        0.000000                 0.000000  \n",
       "25%        13.000000       0.000000        1.000000                 1.298277  \n",
       "50%        33.000000       6.000000        3.000000                 2.217412  \n",
       "75%        45.000000      33.000000        5.000000                 4.045302  \n",
       "max        59.000000      59.000000        6.000000                99.996040  "
      ]
     },
     "execution_count": 124,
     "metadata": {},
     "output_type": "execute_result"
    }
   ],
   "source": [
    "test_df.describe()"
   ]
  },
  {
   "cell_type": "code",
   "execution_count": 125,
   "metadata": {},
   "outputs": [
    {
     "name": "stdout",
     "output_type": "stream",
     "text": [
      "<class 'pandas.core.frame.DataFrame'>\n",
      "RangeIndex: 9914 entries, 0 to 9913\n",
      "Data columns (total 17 columns):\n",
      "key                        9914 non-null object\n",
      "pickup_datetime            9914 non-null object\n",
      "pickup_longitude           9914 non-null float64\n",
      "pickup_latitude            9914 non-null float64\n",
      "dropoff_longitude          9914 non-null float64\n",
      "dropoff_latitude           9914 non-null float64\n",
      "passenger_count            9914 non-null int64\n",
      "pickup_timezone            9914 non-null object\n",
      "pickup_datetime_obj        9914 non-null datetime64[ns]\n",
      "pickup_year                9914 non-null int64\n",
      "pickup_month               9914 non-null int64\n",
      "pickup_day                 9914 non-null int64\n",
      "pickup_hour                9914 non-null int64\n",
      "pickup_minute              9914 non-null int64\n",
      "pickup_second              9914 non-null int64\n",
      "pickup_weekday             9914 non-null int64\n",
      "pickup_dropoff_distance    9914 non-null float64\n",
      "dtypes: datetime64[ns](1), float64(5), int64(8), object(3)\n",
      "memory usage: 1.3+ MB\n"
     ]
    }
   ],
   "source": [
    "test_df.info()"
   ]
  },
  {
   "cell_type": "markdown",
   "metadata": {},
   "source": [
    "## datetime"
   ]
  },
  {
   "cell_type": "code",
   "execution_count": 126,
   "metadata": {},
   "outputs": [
    {
     "data": {
      "text/plain": [
       "<matplotlib.axes._subplots.AxesSubplot at 0x7fd995b1d668>"
      ]
     },
     "execution_count": 126,
     "metadata": {},
     "output_type": "execute_result"
    },
    {
     "data": {
      "image/png": "[encoded data removed]",
      "text/plain": [
       "<Figure size 432x288 with 1 Axes>"
      ]
     },
     "metadata": {},
     "output_type": "display_data"
    }
   ],
   "source": [
    "test_df['pickup_year'].value_counts(sort=False).plot(kind='bar')"
   ]
  },
  {
   "cell_type": "code",
   "execution_count": 127,
   "metadata": {},
   "outputs": [
    {
     "data": {
      "text/plain": [
       "<matplotlib.axes._subplots.AxesSubplot at 0x7fd9968ba978>"
      ]
     },
     "execution_count": 127,
     "metadata": {},
     "output_type": "execute_result"
    },
    {
     "data": {
      "image/png": "[encoded data removed]",
      "text/plain": [
       "<Figure size 432x288 with 1 Axes>"
      ]
     },
     "metadata": {},
     "output_type": "display_data"
    }
   ],
   "source": [
    "test_df['pickup_month'].value_counts(sort=False).plot(kind='bar')"
   ]
  },
  {
   "cell_type": "code",
   "execution_count": 128,
   "metadata": {},
   "outputs": [
    {
     "data": {
      "text/plain": [
       "<matplotlib.axes._subplots.AxesSubplot at 0x7fd995ea26a0>"
      ]
     },
     "execution_count": 128,
     "metadata": {},
     "output_type": "execute_result"
    },
    {
     "data": {
      "image/png": "[encoded data removed]",
      "text/plain": [
       "<Figure size 432x288 with 1 Axes>"
      ]
     },
     "metadata": {},
     "output_type": "display_data"
    }
   ],
   "source": [
    "test_df['pickup_day'].value_counts(sort=False).plot(kind='bar')"
   ]
  }
 ],
 "metadata": {
  "kernelspec": {
   "display_name": "Python 3",
   "language": "python",
   "name": "python3"
  },
  "language_info": {
   "codemirror_mode": {
    "name": "ipython",
    "version": 3
   },
   "file_extension": ".py",
   "mimetype": "text/x-python",
   "name": "python",
   "nbconvert_exporter": "python",
   "pygments_lexer": "ipython3",
   "version": "3.6.4"
  }
 },
 "nbformat": 4,
 "nbformat_minor": 1
}
