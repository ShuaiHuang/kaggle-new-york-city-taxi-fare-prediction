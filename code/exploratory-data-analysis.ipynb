{
 "cells": [
  {
   "cell_type": "markdown",
   "metadata": {
    "collapsed": true
   },
   "source": [
    "# Exploratory Data Analysis"
   ]
  },
  {
   "cell_type": "code",
   "execution_count": 1,
   "metadata": {},
   "outputs": [],
   "source": [
    "import os\n",
    "import pandas as pd\n",
    "from matplotlib import pyplot as plt\n",
    "% matplotlib inline\n",
    "from mpl_toolkits.basemap import Basemap"
   ]
  },
  {
   "cell_type": "code",
   "execution_count": 2,
   "metadata": {},
   "outputs": [],
   "source": [
    "TRAIN_FILENAME = '../data/data-for-processing/cleaned_chunk_011_train.feather'\n",
    "TEST_FILENAME = '../data/data-for-processing/cleaned_test.feather'"
   ]
  },
  {
   "cell_type": "code",
   "execution_count": 3,
   "metadata": {},
   "outputs": [
    {
     "name": "stderr",
     "output_type": "stream",
     "text": [
      "/home/solomon/anaconda3/envs/py3/lib/python3.6/site-packages/pandas/io/feather_format.py:112: FutureWarning: `nthreads` argument is deprecated, pass `use_threads` instead\n",
      "  return feather.read_dataframe(path, nthreads=nthreads)\n"
     ]
    }
   ],
   "source": [
    "df = pd.read_feather(TRAIN_FILENAME)"
   ]
  },
  {
   "cell_type": "code",
   "execution_count": 4,
   "metadata": {},
   "outputs": [
    {
     "name": "stdout",
     "output_type": "stream",
     "text": [
      "<class 'pandas.core.frame.DataFrame'>\n",
      "RangeIndex: 422366 entries, 0 to 422365\n",
      "Data columns (total 20 columns):\n",
      "level_0                    422366 non-null int64\n",
      "index                      422366 non-null int64\n",
      "key                        422366 non-null object\n",
      "fare_amount                422366 non-null float64\n",
      "pickup_datetime            422366 non-null object\n",
      "pickup_longitude           422366 non-null float64\n",
      "pickup_latitude            422366 non-null float64\n",
      "dropoff_longitude          422366 non-null float64\n",
      "dropoff_latitude           422366 non-null float64\n",
      "passenger_count            422366 non-null int64\n",
      "pickup_timezone            422366 non-null object\n",
      "pickup_datetime_obj        422366 non-null datetime64[ns]\n",
      "pickup_year                422366 non-null int64\n",
      "pickup_month               422366 non-null int64\n",
      "pickup_day                 422366 non-null int64\n",
      "pickup_hour                422366 non-null int64\n",
      "pickup_minute              422366 non-null int64\n",
      "pickup_second              422366 non-null int64\n",
      "pickup_weekday             422366 non-null int64\n",
      "pickup_dropoff_distance    422366 non-null float64\n",
      "dtypes: datetime64[ns](1), float64(6), int64(10), object(3)\n",
      "memory usage: 64.4+ MB\n"
     ]
    }
   ],
   "source": [
    "df.info()"
   ]
  },
  {
   "cell_type": "code",
   "execution_count": 5,
   "metadata": {},
   "outputs": [
    {
     "data": {
      "text/html": [
       "<div>\n",
       "<style scoped>\n",
       "    .dataframe tbody tr th:only-of-type {\n",
       "        vertical-align: middle;\n",
       "    }\n",
       "\n",
       "    .dataframe tbody tr th {\n",
       "        vertical-align: top;\n",
       "    }\n",
       "\n",
       "    .dataframe thead th {\n",
       "        text-align: right;\n",
       "    }\n",
       "</style>\n",
       "<table border=\"1\" class=\"dataframe\">\n",
       "  <thead>\n",
       "    <tr style=\"text-align: right;\">\n",
       "      <th></th>\n",
       "      <th>level_0</th>\n",
       "      <th>index</th>\n",
       "      <th>key</th>\n",
       "      <th>fare_amount</th>\n",
       "      <th>pickup_datetime</th>\n",
       "      <th>pickup_longitude</th>\n",
       "      <th>pickup_latitude</th>\n",
       "      <th>dropoff_longitude</th>\n",
       "      <th>dropoff_latitude</th>\n",
       "      <th>passenger_count</th>\n",
       "      <th>pickup_timezone</th>\n",
       "      <th>pickup_datetime_obj</th>\n",
       "      <th>pickup_year</th>\n",
       "      <th>pickup_month</th>\n",
       "      <th>pickup_day</th>\n",
       "      <th>pickup_hour</th>\n",
       "      <th>pickup_minute</th>\n",
       "      <th>pickup_second</th>\n",
       "      <th>pickup_weekday</th>\n",
       "      <th>pickup_dropoff_distance</th>\n",
       "    </tr>\n",
       "  </thead>\n",
       "  <tbody>\n",
       "    <tr>\n",
       "      <th>0</th>\n",
       "      <td>0</td>\n",
       "      <td>55000000</td>\n",
       "      <td>2009-06-30 09:25:00.00000094</td>\n",
       "      <td>6.5</td>\n",
       "      <td>2009-06-30 09:25:00 UTC</td>\n",
       "      <td>-73.990421</td>\n",
       "      <td>40.718843</td>\n",
       "      <td>-74.000060</td>\n",
       "      <td>40.727895</td>\n",
       "      <td>1</td>\n",
       "      <td>UTC</td>\n",
       "      <td>2009-06-30 09:25:00</td>\n",
       "      <td>2009</td>\n",
       "      <td>6</td>\n",
       "      <td>30</td>\n",
       "      <td>9</td>\n",
       "      <td>25</td>\n",
       "      <td>0</td>\n",
       "      <td>1</td>\n",
       "      <td>1.293418</td>\n",
       "    </tr>\n",
       "    <tr>\n",
       "      <th>1</th>\n",
       "      <td>1</td>\n",
       "      <td>55000001</td>\n",
       "      <td>2009-09-28 18:04:43.0000001</td>\n",
       "      <td>5.7</td>\n",
       "      <td>2009-09-28 18:04:43 UTC</td>\n",
       "      <td>-73.974759</td>\n",
       "      <td>40.749067</td>\n",
       "      <td>-73.983955</td>\n",
       "      <td>40.736129</td>\n",
       "      <td>1</td>\n",
       "      <td>UTC</td>\n",
       "      <td>2009-09-28 18:04:43</td>\n",
       "      <td>2009</td>\n",
       "      <td>9</td>\n",
       "      <td>28</td>\n",
       "      <td>18</td>\n",
       "      <td>4</td>\n",
       "      <td>43</td>\n",
       "      <td>0</td>\n",
       "      <td>1.633982</td>\n",
       "    </tr>\n",
       "    <tr>\n",
       "      <th>2</th>\n",
       "      <td>2</td>\n",
       "      <td>55000002</td>\n",
       "      <td>2010-05-22 22:54:51.0000003</td>\n",
       "      <td>10.9</td>\n",
       "      <td>2010-05-22 22:54:51 UTC</td>\n",
       "      <td>-73.981731</td>\n",
       "      <td>40.722242</td>\n",
       "      <td>-74.006415</td>\n",
       "      <td>40.708414</td>\n",
       "      <td>1</td>\n",
       "      <td>UTC</td>\n",
       "      <td>2010-05-22 22:54:51</td>\n",
       "      <td>2010</td>\n",
       "      <td>5</td>\n",
       "      <td>22</td>\n",
       "      <td>22</td>\n",
       "      <td>54</td>\n",
       "      <td>51</td>\n",
       "      <td>5</td>\n",
       "      <td>2.586945</td>\n",
       "    </tr>\n",
       "    <tr>\n",
       "      <th>3</th>\n",
       "      <td>3</td>\n",
       "      <td>55000003</td>\n",
       "      <td>2013-10-24 20:03:46.0000004</td>\n",
       "      <td>8.0</td>\n",
       "      <td>2013-10-24 20:03:46 UTC</td>\n",
       "      <td>-73.990378</td>\n",
       "      <td>40.751507</td>\n",
       "      <td>-74.005202</td>\n",
       "      <td>40.741458</td>\n",
       "      <td>2</td>\n",
       "      <td>UTC</td>\n",
       "      <td>2013-10-24 20:03:46</td>\n",
       "      <td>2013</td>\n",
       "      <td>10</td>\n",
       "      <td>24</td>\n",
       "      <td>20</td>\n",
       "      <td>3</td>\n",
       "      <td>46</td>\n",
       "      <td>3</td>\n",
       "      <td>1.675733</td>\n",
       "    </tr>\n",
       "    <tr>\n",
       "      <th>4</th>\n",
       "      <td>4</td>\n",
       "      <td>55000004</td>\n",
       "      <td>2013-12-20 00:52:00.00000041</td>\n",
       "      <td>9.5</td>\n",
       "      <td>2013-12-20 00:52:00 UTC</td>\n",
       "      <td>-73.977433</td>\n",
       "      <td>40.668257</td>\n",
       "      <td>-73.951930</td>\n",
       "      <td>40.683825</td>\n",
       "      <td>1</td>\n",
       "      <td>UTC</td>\n",
       "      <td>2013-12-20 00:52:00</td>\n",
       "      <td>2013</td>\n",
       "      <td>12</td>\n",
       "      <td>20</td>\n",
       "      <td>0</td>\n",
       "      <td>52</td>\n",
       "      <td>0</td>\n",
       "      <td>4</td>\n",
       "      <td>2.760821</td>\n",
       "    </tr>\n",
       "  </tbody>\n",
       "</table>\n",
       "</div>"
      ],
      "text/plain": [
       "   level_0     index                           key  fare_amount  \\\n",
       "0        0  55000000  2009-06-30 09:25:00.00000094          6.5   \n",
       "1        1  55000001   2009-09-28 18:04:43.0000001          5.7   \n",
       "2        2  55000002   2010-05-22 22:54:51.0000003         10.9   \n",
       "3        3  55000003   2013-10-24 20:03:46.0000004          8.0   \n",
       "4        4  55000004  2013-12-20 00:52:00.00000041          9.5   \n",
       "\n",
       "           pickup_datetime  pickup_longitude  pickup_latitude  \\\n",
       "0  2009-06-30 09:25:00 UTC        -73.990421        40.718843   \n",
       "1  2009-09-28 18:04:43 UTC        -73.974759        40.749067   \n",
       "2  2010-05-22 22:54:51 UTC        -73.981731        40.722242   \n",
       "3  2013-10-24 20:03:46 UTC        -73.990378        40.751507   \n",
       "4  2013-12-20 00:52:00 UTC        -73.977433        40.668257   \n",
       "\n",
       "   dropoff_longitude  dropoff_latitude  passenger_count pickup_timezone  \\\n",
       "0         -74.000060         40.727895                1             UTC   \n",
       "1         -73.983955         40.736129                1             UTC   \n",
       "2         -74.006415         40.708414                1             UTC   \n",
       "3         -74.005202         40.741458                2             UTC   \n",
       "4         -73.951930         40.683825                1             UTC   \n",
       "\n",
       "  pickup_datetime_obj  pickup_year  pickup_month  pickup_day  pickup_hour  \\\n",
       "0 2009-06-30 09:25:00         2009             6          30            9   \n",
       "1 2009-09-28 18:04:43         2009             9          28           18   \n",
       "2 2010-05-22 22:54:51         2010             5          22           22   \n",
       "3 2013-10-24 20:03:46         2013            10          24           20   \n",
       "4 2013-12-20 00:52:00         2013            12          20            0   \n",
       "\n",
       "   pickup_minute  pickup_second  pickup_weekday  pickup_dropoff_distance  \n",
       "0             25              0               1                 1.293418  \n",
       "1              4             43               0                 1.633982  \n",
       "2             54             51               5                 2.586945  \n",
       "3              3             46               3                 1.675733  \n",
       "4             52              0               4                 2.760821  "
      ]
     },
     "execution_count": 5,
     "metadata": {},
     "output_type": "execute_result"
    }
   ],
   "source": [
    "df.head()"
   ]
  },
  {
   "cell_type": "markdown",
   "metadata": {},
   "source": [
    "## Training Dataset\n",
    "\n",
    "### `fare_amount`\n",
    "\n",
    "- drop the record which has negative `fare_amount`"
   ]
  },
  {
   "cell_type": "code",
   "execution_count": 6,
   "metadata": {
    "scrolled": true
   },
   "outputs": [
    {
     "data": {
      "text/plain": [
       "count    422366.000000\n",
       "mean         11.340381\n",
       "std           9.696988\n",
       "min           0.010000\n",
       "25%           6.000000\n",
       "50%           8.500000\n",
       "75%          12.500000\n",
       "max         300.000000\n",
       "Name: fare_amount, dtype: float64"
      ]
     },
     "execution_count": 6,
     "metadata": {},
     "output_type": "execute_result"
    }
   ],
   "source": [
    "df.loc[:, 'fare_amount'].describe()"
   ]
  },
  {
   "cell_type": "code",
   "execution_count": 7,
   "metadata": {
    "scrolled": true
   },
   "outputs": [
    {
     "data": {
      "text/html": [
       "<div>\n",
       "<style scoped>\n",
       "    .dataframe tbody tr th:only-of-type {\n",
       "        vertical-align: middle;\n",
       "    }\n",
       "\n",
       "    .dataframe tbody tr th {\n",
       "        vertical-align: top;\n",
       "    }\n",
       "\n",
       "    .dataframe thead th {\n",
       "        text-align: right;\n",
       "    }\n",
       "</style>\n",
       "<table border=\"1\" class=\"dataframe\">\n",
       "  <thead>\n",
       "    <tr style=\"text-align: right;\">\n",
       "      <th></th>\n",
       "      <th>level_0</th>\n",
       "      <th>index</th>\n",
       "      <th>key</th>\n",
       "      <th>fare_amount</th>\n",
       "      <th>pickup_datetime</th>\n",
       "      <th>pickup_longitude</th>\n",
       "      <th>pickup_latitude</th>\n",
       "      <th>dropoff_longitude</th>\n",
       "      <th>dropoff_latitude</th>\n",
       "      <th>passenger_count</th>\n",
       "      <th>pickup_timezone</th>\n",
       "      <th>pickup_datetime_obj</th>\n",
       "      <th>pickup_year</th>\n",
       "      <th>pickup_month</th>\n",
       "      <th>pickup_day</th>\n",
       "      <th>pickup_hour</th>\n",
       "      <th>pickup_minute</th>\n",
       "      <th>pickup_second</th>\n",
       "      <th>pickup_weekday</th>\n",
       "      <th>pickup_dropoff_distance</th>\n",
       "    </tr>\n",
       "  </thead>\n",
       "  <tbody>\n",
       "    <tr>\n",
       "      <th>5635</th>\n",
       "      <td>5652</td>\n",
       "      <td>55005652</td>\n",
       "      <td>2010-03-31 10:24:09.0000002</td>\n",
       "      <td>1.00</td>\n",
       "      <td>2010-03-31 10:24:09 UTC</td>\n",
       "      <td>-73.971016</td>\n",
       "      <td>40.766982</td>\n",
       "      <td>-73.972270</td>\n",
       "      <td>40.765434</td>\n",
       "      <td>1</td>\n",
       "      <td>UTC</td>\n",
       "      <td>2010-03-31 10:24:09</td>\n",
       "      <td>2010</td>\n",
       "      <td>3</td>\n",
       "      <td>31</td>\n",
       "      <td>10</td>\n",
       "      <td>24</td>\n",
       "      <td>9</td>\n",
       "      <td>2</td>\n",
       "      <td>0.201945</td>\n",
       "    </tr>\n",
       "    <tr>\n",
       "      <th>73045</th>\n",
       "      <td>73304</td>\n",
       "      <td>55073304</td>\n",
       "      <td>2010-03-22 22:37:00.00000032</td>\n",
       "      <td>0.11</td>\n",
       "      <td>2010-03-22 22:37:00 UTC</td>\n",
       "      <td>-73.793512</td>\n",
       "      <td>40.656922</td>\n",
       "      <td>-73.793508</td>\n",
       "      <td>40.656903</td>\n",
       "      <td>1</td>\n",
       "      <td>UTC</td>\n",
       "      <td>2010-03-22 22:37:00</td>\n",
       "      <td>2010</td>\n",
       "      <td>3</td>\n",
       "      <td>22</td>\n",
       "      <td>22</td>\n",
       "      <td>37</td>\n",
       "      <td>0</td>\n",
       "      <td>0</td>\n",
       "      <td>0.002139</td>\n",
       "    </tr>\n",
       "    <tr>\n",
       "      <th>87248</th>\n",
       "      <td>87543</td>\n",
       "      <td>55087543</td>\n",
       "      <td>2013-08-13 15:58:00.000000102</td>\n",
       "      <td>1.50</td>\n",
       "      <td>2013-08-13 15:58:00 UTC</td>\n",
       "      <td>0.000000</td>\n",
       "      <td>0.000000</td>\n",
       "      <td>0.000000</td>\n",
       "      <td>0.000000</td>\n",
       "      <td>1</td>\n",
       "      <td>UTC</td>\n",
       "      <td>2013-08-13 15:58:00</td>\n",
       "      <td>2013</td>\n",
       "      <td>8</td>\n",
       "      <td>13</td>\n",
       "      <td>15</td>\n",
       "      <td>58</td>\n",
       "      <td>0</td>\n",
       "      <td>1</td>\n",
       "      <td>0.000000</td>\n",
       "    </tr>\n",
       "    <tr>\n",
       "      <th>107400</th>\n",
       "      <td>107758</td>\n",
       "      <td>55107758</td>\n",
       "      <td>2015-06-14 21:04:40.0000005</td>\n",
       "      <td>0.01</td>\n",
       "      <td>2015-06-14 21:04:40 UTC</td>\n",
       "      <td>-73.122307</td>\n",
       "      <td>40.787441</td>\n",
       "      <td>-73.122307</td>\n",
       "      <td>40.787445</td>\n",
       "      <td>2</td>\n",
       "      <td>UTC</td>\n",
       "      <td>2015-06-14 21:04:40</td>\n",
       "      <td>2015</td>\n",
       "      <td>6</td>\n",
       "      <td>14</td>\n",
       "      <td>21</td>\n",
       "      <td>4</td>\n",
       "      <td>40</td>\n",
       "      <td>6</td>\n",
       "      <td>0.000424</td>\n",
       "    </tr>\n",
       "    <tr>\n",
       "      <th>139444</th>\n",
       "      <td>139906</td>\n",
       "      <td>55139906</td>\n",
       "      <td>2015-06-01 21:46:57.0000009</td>\n",
       "      <td>0.01</td>\n",
       "      <td>2015-06-01 21:46:57 UTC</td>\n",
       "      <td>-73.996986</td>\n",
       "      <td>40.689171</td>\n",
       "      <td>-73.996986</td>\n",
       "      <td>40.689171</td>\n",
       "      <td>1</td>\n",
       "      <td>UTC</td>\n",
       "      <td>2015-06-01 21:46:57</td>\n",
       "      <td>2015</td>\n",
       "      <td>6</td>\n",
       "      <td>1</td>\n",
       "      <td>21</td>\n",
       "      <td>46</td>\n",
       "      <td>57</td>\n",
       "      <td>0</td>\n",
       "      <td>0.000000</td>\n",
       "    </tr>\n",
       "    <tr>\n",
       "      <th>156496</th>\n",
       "      <td>157009</td>\n",
       "      <td>55157009</td>\n",
       "      <td>2013-08-25 15:24:22.0000002</td>\n",
       "      <td>0.01</td>\n",
       "      <td>2013-08-25 15:24:22 UTC</td>\n",
       "      <td>-74.177632</td>\n",
       "      <td>40.695360</td>\n",
       "      <td>-74.177622</td>\n",
       "      <td>40.695375</td>\n",
       "      <td>1</td>\n",
       "      <td>UTC</td>\n",
       "      <td>2013-08-25 15:24:22</td>\n",
       "      <td>2013</td>\n",
       "      <td>8</td>\n",
       "      <td>25</td>\n",
       "      <td>15</td>\n",
       "      <td>24</td>\n",
       "      <td>22</td>\n",
       "      <td>6</td>\n",
       "      <td>0.001869</td>\n",
       "    </tr>\n",
       "    <tr>\n",
       "      <th>246150</th>\n",
       "      <td>247015</td>\n",
       "      <td>55247015</td>\n",
       "      <td>2015-05-10 14:10:17.0000002</td>\n",
       "      <td>0.01</td>\n",
       "      <td>2015-05-10 14:10:17 UTC</td>\n",
       "      <td>-74.035683</td>\n",
       "      <td>40.724957</td>\n",
       "      <td>-74.035683</td>\n",
       "      <td>40.724957</td>\n",
       "      <td>1</td>\n",
       "      <td>UTC</td>\n",
       "      <td>2015-05-10 14:10:17</td>\n",
       "      <td>2015</td>\n",
       "      <td>5</td>\n",
       "      <td>10</td>\n",
       "      <td>14</td>\n",
       "      <td>10</td>\n",
       "      <td>17</td>\n",
       "      <td>6</td>\n",
       "      <td>0.000000</td>\n",
       "    </tr>\n",
       "  </tbody>\n",
       "</table>\n",
       "</div>"
      ],
      "text/plain": [
       "        level_0     index                            key  fare_amount  \\\n",
       "5635       5652  55005652    2010-03-31 10:24:09.0000002         1.00   \n",
       "73045     73304  55073304   2010-03-22 22:37:00.00000032         0.11   \n",
       "87248     87543  55087543  2013-08-13 15:58:00.000000102         1.50   \n",
       "107400   107758  55107758    2015-06-14 21:04:40.0000005         0.01   \n",
       "139444   139906  55139906    2015-06-01 21:46:57.0000009         0.01   \n",
       "156496   157009  55157009    2013-08-25 15:24:22.0000002         0.01   \n",
       "246150   247015  55247015    2015-05-10 14:10:17.0000002         0.01   \n",
       "\n",
       "                pickup_datetime  pickup_longitude  pickup_latitude  \\\n",
       "5635    2010-03-31 10:24:09 UTC        -73.971016        40.766982   \n",
       "73045   2010-03-22 22:37:00 UTC        -73.793512        40.656922   \n",
       "87248   2013-08-13 15:58:00 UTC          0.000000         0.000000   \n",
       "107400  2015-06-14 21:04:40 UTC        -73.122307        40.787441   \n",
       "139444  2015-06-01 21:46:57 UTC        -73.996986        40.689171   \n",
       "156496  2013-08-25 15:24:22 UTC        -74.177632        40.695360   \n",
       "246150  2015-05-10 14:10:17 UTC        -74.035683        40.724957   \n",
       "\n",
       "        dropoff_longitude  dropoff_latitude  passenger_count pickup_timezone  \\\n",
       "5635           -73.972270         40.765434                1             UTC   \n",
       "73045          -73.793508         40.656903                1             UTC   \n",
       "87248            0.000000          0.000000                1             UTC   \n",
       "107400         -73.122307         40.787445                2             UTC   \n",
       "139444         -73.996986         40.689171                1             UTC   \n",
       "156496         -74.177622         40.695375                1             UTC   \n",
       "246150         -74.035683         40.724957                1             UTC   \n",
       "\n",
       "       pickup_datetime_obj  pickup_year  pickup_month  pickup_day  \\\n",
       "5635   2010-03-31 10:24:09         2010             3          31   \n",
       "73045  2010-03-22 22:37:00         2010             3          22   \n",
       "87248  2013-08-13 15:58:00         2013             8          13   \n",
       "107400 2015-06-14 21:04:40         2015             6          14   \n",
       "139444 2015-06-01 21:46:57         2015             6           1   \n",
       "156496 2013-08-25 15:24:22         2013             8          25   \n",
       "246150 2015-05-10 14:10:17         2015             5          10   \n",
       "\n",
       "        pickup_hour  pickup_minute  pickup_second  pickup_weekday  \\\n",
       "5635             10             24              9               2   \n",
       "73045            22             37              0               0   \n",
       "87248            15             58              0               1   \n",
       "107400           21              4             40               6   \n",
       "139444           21             46             57               0   \n",
       "156496           15             24             22               6   \n",
       "246150           14             10             17               6   \n",
       "\n",
       "        pickup_dropoff_distance  \n",
       "5635                   0.201945  \n",
       "73045                  0.002139  \n",
       "87248                  0.000000  \n",
       "107400                 0.000424  \n",
       "139444                 0.000000  \n",
       "156496                 0.001869  \n",
       "246150                 0.000000  "
      ]
     },
     "execution_count": 7,
     "metadata": {},
     "output_type": "execute_result"
    }
   ],
   "source": [
    "df[df['fare_amount'] < 2.5]"
   ]
  },
  {
   "cell_type": "code",
   "execution_count": 8,
   "metadata": {
    "scrolled": true
   },
   "outputs": [
    {
     "name": "stdout",
     "output_type": "stream",
     "text": [
      "<class 'pandas.core.frame.DataFrame'>\n",
      "Int64Index: 422359 entries, 0 to 422365\n",
      "Data columns (total 20 columns):\n",
      "level_0                    422359 non-null int64\n",
      "index                      422359 non-null int64\n",
      "key                        422359 non-null object\n",
      "fare_amount                422359 non-null float64\n",
      "pickup_datetime            422359 non-null object\n",
      "pickup_longitude           422359 non-null float64\n",
      "pickup_latitude            422359 non-null float64\n",
      "dropoff_longitude          422359 non-null float64\n",
      "dropoff_latitude           422359 non-null float64\n",
      "passenger_count            422359 non-null int64\n",
      "pickup_timezone            422359 non-null object\n",
      "pickup_datetime_obj        422359 non-null datetime64[ns]\n",
      "pickup_year                422359 non-null int64\n",
      "pickup_month               422359 non-null int64\n",
      "pickup_day                 422359 non-null int64\n",
      "pickup_hour                422359 non-null int64\n",
      "pickup_minute              422359 non-null int64\n",
      "pickup_second              422359 non-null int64\n",
      "pickup_weekday             422359 non-null int64\n",
      "pickup_dropoff_distance    422359 non-null float64\n",
      "dtypes: datetime64[ns](1), float64(6), int64(10), object(3)\n",
      "memory usage: 67.7+ MB\n"
     ]
    }
   ],
   "source": [
    "df = df[df['fare_amount'] >= 2.5]\n",
    "df.info()"
   ]
  },
  {
   "cell_type": "code",
   "execution_count": 9,
   "metadata": {
    "scrolled": true
   },
   "outputs": [
    {
     "data": {
      "text/plain": [
       "<matplotlib.axes._subplots.AxesSubplot at 0x7fe3131be2e8>"
      ]
     },
     "execution_count": 9,
     "metadata": {},
     "output_type": "execute_result"
    },
    {
     "data": {
      "image/png": "[encoded data removed]",
      "text/plain": [
       "<Figure size 1008x216 with 1 Axes>"
      ]
     },
     "metadata": {},
     "output_type": "display_data"
    }
   ],
   "source": [
    "df['fare_amount'].plot.hist(bins=100, logy=True, figsize=[14, 3])"
   ]
  },
  {
   "cell_type": "markdown",
   "metadata": {},
   "source": [
    "### `pickup_datetime`\n",
    "\n",
    "- 进行如下拆分:\n",
    "    + `pickup_year`\n",
    "    + `pickup_month`\n",
    "    + `pickup_day`\n",
    "    + `pickup_hour`\n",
    "    + `pickup_min`\n",
    "    + `pickup_sec`\n",
    "    + `pickup_timezone`\n",
    "    + `pickup_weekday`\n",
    "- 根据实际情况, 每一年的路况和费用在发生变化, 因此预测时可以针对每一年分别建立起来模型\n",
    "- 考虑使用夏时令对UTC时间进行转换"
   ]
  },
  {
   "cell_type": "code",
   "execution_count": 10,
   "metadata": {
    "scrolled": true
   },
   "outputs": [
    {
     "data": {
      "text/plain": [
       "2012    67869\n",
       "2011    66513\n",
       "2013    66323\n",
       "2009    65063\n",
       "2010    63882\n",
       "2014    62875\n",
       "2015    29834\n",
       "Name: pickup_year, dtype: int64"
      ]
     },
     "execution_count": 10,
     "metadata": {},
     "output_type": "execute_result"
    }
   ],
   "source": [
    "df['pickup_year'].value_counts()"
   ]
  },
  {
   "cell_type": "code",
   "execution_count": 11,
   "metadata": {},
   "outputs": [
    {
     "data": {
      "text/plain": [
       "<matplotlib.axes._subplots.AxesSubplot at 0x7fe304849cc0>"
      ]
     },
     "execution_count": 11,
     "metadata": {},
     "output_type": "execute_result"
    },
    {
     "data": {
      "image/png": "[encoded data removed]",
      "text/plain": [
       "<Figure size 432x288 with 1 Axes>"
      ]
     },
     "metadata": {},
     "output_type": "display_data"
    }
   ],
   "source": [
    "df['pickup_year'].value_counts(sort=False).plot(kind='bar')"
   ]
  },
  {
   "cell_type": "code",
   "execution_count": 12,
   "metadata": {
    "scrolled": true
   },
   "outputs": [
    {
     "data": {
      "text/plain": [
       "<matplotlib.axes._subplots.AxesSubplot at 0x7fe30480a630>"
      ]
     },
     "execution_count": 12,
     "metadata": {},
     "output_type": "execute_result"
    },
    {
     "data": {
      "image/png": "[encoded data removed]",
      "text/plain": [
       "<Figure size 432x288 with 1 Axes>"
      ]
     },
     "metadata": {},
     "output_type": "display_data"
    }
   ],
   "source": [
    "df[df['pickup_year']==2009]['pickup_month'].value_counts(sort=False).plot(kind='bar')"
   ]
  },
  {
   "cell_type": "code",
   "execution_count": 13,
   "metadata": {
    "scrolled": true
   },
   "outputs": [
    {
     "data": {
      "text/plain": [
       "<matplotlib.axes._subplots.AxesSubplot at 0x7fe304751048>"
      ]
     },
     "execution_count": 13,
     "metadata": {},
     "output_type": "execute_result"
    },
    {
     "data": {
      "image/png": "[encoded data removed]",
      "text/plain": [
       "<Figure size 432x288 with 1 Axes>"
      ]
     },
     "metadata": {},
     "output_type": "display_data"
    }
   ],
   "source": [
    "df[df['pickup_year']==2010]['pickup_month'].value_counts(sort=False).plot(kind='bar')"
   ]
  },
  {
   "cell_type": "code",
   "execution_count": 14,
   "metadata": {
    "scrolled": true
   },
   "outputs": [
    {
     "data": {
      "text/plain": [
       "<matplotlib.axes._subplots.AxesSubplot at 0x7fe3046d5438>"
      ]
     },
     "execution_count": 14,
     "metadata": {},
     "output_type": "execute_result"
    },
    {
     "data": {
      "image/png": "[encoded data removed]",
      "text/plain": [
       "<Figure size 432x288 with 1 Axes>"
      ]
     },
     "metadata": {},
     "output_type": "display_data"
    }
   ],
   "source": [
    "df[df['pickup_year']==2011]['pickup_month'].value_counts(sort=False).plot(kind='bar')"
   ]
  },
  {
   "cell_type": "code",
   "execution_count": 15,
   "metadata": {
    "scrolled": true
   },
   "outputs": [
    {
     "data": {
      "text/plain": [
       "<matplotlib.axes._subplots.AxesSubplot at 0x7fe3046508d0>"
      ]
     },
     "execution_count": 15,
     "metadata": {},
     "output_type": "execute_result"
    },
    {
     "data": {
      "image/png": "[encoded data removed]",
      "text/plain": [
       "<Figure size 432x288 with 1 Axes>"
      ]
     },
     "metadata": {},
     "output_type": "display_data"
    }
   ],
   "source": [
    "df[df['pickup_year']==2012]['pickup_month'].value_counts(sort=False).plot(kind='bar')"
   ]
  },
  {
   "cell_type": "code",
   "execution_count": 16,
   "metadata": {
    "scrolled": true
   },
   "outputs": [
    {
     "data": {
      "text/plain": [
       "<matplotlib.axes._subplots.AxesSubplot at 0x7fe3045cf358>"
      ]
     },
     "execution_count": 16,
     "metadata": {},
     "output_type": "execute_result"
    },
    {
     "data": {
      "image/png": "[encoded data removed]",
      "text/plain": [
       "<Figure size 432x288 with 1 Axes>"
      ]
     },
     "metadata": {},
     "output_type": "display_data"
    }
   ],
   "source": [
    "df[df['pickup_year']==2013]['pickup_month'].value_counts(sort=False).plot(kind='bar')"
   ]
  },
  {
   "cell_type": "code",
   "execution_count": 17,
   "metadata": {
    "scrolled": true
   },
   "outputs": [
    {
     "data": {
      "text/plain": [
       "<matplotlib.axes._subplots.AxesSubplot at 0x7fe30458acc0>"
      ]
     },
     "execution_count": 17,
     "metadata": {},
     "output_type": "execute_result"
    },
    {
     "data": {
      "image/png": "[encoded data removed]",
      "text/plain": [
       "<Figure size 432x288 with 1 Axes>"
      ]
     },
     "metadata": {},
     "output_type": "display_data"
    }
   ],
   "source": [
    "df[df['pickup_year']==2014]['pickup_month'].value_counts(sort=False).plot(kind='bar')"
   ]
  },
  {
   "cell_type": "code",
   "execution_count": 18,
   "metadata": {
    "scrolled": false
   },
   "outputs": [
    {
     "data": {
      "text/plain": [
       "<matplotlib.axes._subplots.AxesSubplot at 0x7fe30454cd30>"
      ]
     },
     "execution_count": 18,
     "metadata": {},
     "output_type": "execute_result"
    },
    {
     "data": {
      "image/png": "[encoded data removed]",
      "text/plain": [
       "<Figure size 432x288 with 1 Axes>"
      ]
     },
     "metadata": {},
     "output_type": "display_data"
    }
   ],
   "source": [
    "df[df['pickup_year']==2015]['pickup_month'].value_counts(sort=False).plot(kind='bar')"
   ]
  },
  {
   "cell_type": "code",
   "execution_count": 19,
   "metadata": {},
   "outputs": [
    {
     "data": {
      "text/plain": [
       "<matplotlib.axes._subplots.AxesSubplot at 0x7fe30441e630>"
      ]
     },
     "execution_count": 19,
     "metadata": {},
     "output_type": "execute_result"
    },
    {
     "data": {
      "image/png": "[encoded data removed]",
      "text/plain": [
       "<Figure size 432x288 with 1 Axes>"
      ]
     },
     "metadata": {},
     "output_type": "display_data"
    }
   ],
   "source": [
    "df['pickup_hour'].value_counts(sort=False).plot(kind='bar')"
   ]
  },
  {
   "cell_type": "code",
   "execution_count": 20,
   "metadata": {},
   "outputs": [
    {
     "data": {
      "text/plain": [
       "<matplotlib.axes._subplots.AxesSubplot at 0x7fe3043ca630>"
      ]
     },
     "execution_count": 20,
     "metadata": {},
     "output_type": "execute_result"
    },
    {
     "data": {
      "image/png": "[encoded data removed]",
      "text/plain": [
       "<Figure size 432x288 with 1 Axes>"
      ]
     },
     "metadata": {},
     "output_type": "display_data"
    }
   ],
   "source": [
    "df['pickup_timezone'].value_counts(sort=False).plot(kind='bar')"
   ]
  },
  {
   "cell_type": "code",
   "execution_count": 21,
   "metadata": {
    "scrolled": true
   },
   "outputs": [
    {
     "data": {
      "text/plain": [
       "<matplotlib.axes._subplots.AxesSubplot at 0x7fe3043b8f28>"
      ]
     },
     "execution_count": 21,
     "metadata": {},
     "output_type": "execute_result"
    },
    {
     "data": {
      "image/png": "[encoded data removed]",
      "text/plain": [
       "<Figure size 432x288 with 1 Axes>"
      ]
     },
     "metadata": {},
     "output_type": "display_data"
    }
   ],
   "source": [
    "df['pickup_weekday'].value_counts(sort=False).plot(kind='bar')"
   ]
  },
  {
   "cell_type": "code",
   "execution_count": 22,
   "metadata": {
    "scrolled": true
   },
   "outputs": [
    {
     "data": {
      "text/plain": [
       "count    93837.000000\n",
       "mean        11.184346\n",
       "std          8.983899\n",
       "min          2.500000\n",
       "25%          6.100000\n",
       "50%          8.500000\n",
       "75%         12.900000\n",
       "max        255.500000\n",
       "Name: fare_amount, dtype: float64"
      ]
     },
     "execution_count": 22,
     "metadata": {},
     "output_type": "execute_result"
    }
   ],
   "source": [
    "df[df['pickup_hour'] >= 20]['fare_amount'].describe()"
   ]
  },
  {
   "cell_type": "markdown",
   "metadata": {},
   "source": [
    "### `pickup_longitude` and `pickup_latitude`\n",
    "\n",
    "- 清除掉明显超出纽约范围的记录"
   ]
  },
  {
   "cell_type": "code",
   "execution_count": 23,
   "metadata": {
    "scrolled": true
   },
   "outputs": [
    {
     "data": {
      "text/plain": [
       "count    422359.000000\n",
       "mean        -72.488576\n",
       "std          10.501548\n",
       "min        -121.925805\n",
       "25%         -73.992127\n",
       "50%         -73.981834\n",
       "75%         -73.967088\n",
       "max          73.863260\n",
       "Name: pickup_longitude, dtype: float64"
      ]
     },
     "execution_count": 23,
     "metadata": {},
     "output_type": "execute_result"
    }
   ],
   "source": [
    "df['pickup_longitude'].describe()"
   ]
  },
  {
   "cell_type": "code",
   "execution_count": 24,
   "metadata": {
    "scrolled": true
   },
   "outputs": [
    {
     "data": {
      "text/plain": [
       "count    422359.000000\n",
       "mean         39.911074\n",
       "std           6.167775\n",
       "min         -74.016272\n",
       "25%          40.734930\n",
       "50%          40.752672\n",
       "75%          40.767090\n",
       "max          79.683333\n",
       "Name: pickup_latitude, dtype: float64"
      ]
     },
     "execution_count": 24,
     "metadata": {},
     "output_type": "execute_result"
    }
   ],
   "source": [
    "df['pickup_latitude'].describe()"
   ]
  },
  {
   "cell_type": "code",
   "execution_count": 25,
   "metadata": {
    "scrolled": true
   },
   "outputs": [
    {
     "data": {
      "text/plain": [
       "<matplotlib.axes._subplots.AxesSubplot at 0x7fe304342ef0>"
      ]
     },
     "execution_count": 25,
     "metadata": {},
     "output_type": "execute_result"
    },
    {
     "data": {
      "image/png": "[encoded data removed]",
      "text/plain": [
       "<Figure size 1008x216 with 1 Axes>"
      ]
     },
     "metadata": {},
     "output_type": "display_data"
    }
   ],
   "source": [
    "df['pickup_longitude'].plot(kind='hist', bins=500, figsize=[14, 3], logy=True)"
   ]
  },
  {
   "cell_type": "code",
   "execution_count": 26,
   "metadata": {
    "scrolled": false
   },
   "outputs": [
    {
     "data": {
      "text/plain": [
       "<matplotlib.axes._subplots.AxesSubplot at 0x7fe2f6931be0>"
      ]
     },
     "execution_count": 26,
     "metadata": {},
     "output_type": "execute_result"
    },
    {
     "data": {
      "image/png": "[encoded data removed]",
      "text/plain": [
       "<Figure size 1008x216 with 1 Axes>"
      ]
     },
     "metadata": {},
     "output_type": "display_data"
    }
   ],
   "source": [
    "df['pickup_latitude'].plot(kind='hist', bins=500, figsize=[14, 3], logy=True)"
   ]
  },
  {
   "cell_type": "markdown",
   "metadata": {},
   "source": [
    "### `passenger_count`\n",
    "\n",
    "- 清除掉`passenger_count`为0的记录"
   ]
  },
  {
   "cell_type": "code",
   "execution_count": 27,
   "metadata": {},
   "outputs": [
    {
     "data": {
      "text/plain": [
       "1    293047\n",
       "2     62726\n",
       "5     30077\n",
       "3     18547\n",
       "4      9016\n",
       "6      8946\n",
       "Name: passenger_count, dtype: int64"
      ]
     },
     "execution_count": 27,
     "metadata": {},
     "output_type": "execute_result"
    }
   ],
   "source": [
    "df['passenger_count'].value_counts()"
   ]
  },
  {
   "cell_type": "code",
   "execution_count": 28,
   "metadata": {
    "scrolled": false
   },
   "outputs": [
    {
     "data": {
      "text/plain": [
       "<matplotlib.axes._subplots.AxesSubplot at 0x7fe2f636e550>"
      ]
     },
     "execution_count": 28,
     "metadata": {},
     "output_type": "execute_result"
    },
    {
     "data": {
      "image/png": "[encoded data removed]",
      "text/plain": [
       "<Figure size 432x288 with 1 Axes>"
      ]
     },
     "metadata": {},
     "output_type": "display_data"
    }
   ],
   "source": [
    "df['passenger_count'].value_counts(sort=False).plot(kind='bar')"
   ]
  },
  {
   "cell_type": "markdown",
   "metadata": {},
   "source": [
    "## Testing Dataset"
   ]
  },
  {
   "cell_type": "code",
   "execution_count": 29,
   "metadata": {
    "scrolled": true
   },
   "outputs": [
    {
     "name": "stderr",
     "output_type": "stream",
     "text": [
      "/home/solomon/anaconda3/envs/py3/lib/python3.6/site-packages/pandas/io/feather_format.py:112: FutureWarning: `nthreads` argument is deprecated, pass `use_threads` instead\n",
      "  return feather.read_dataframe(path, nthreads=nthreads)\n"
     ]
    }
   ],
   "source": [
    "test_df = pd.read_feather(TEST_FILENAME)"
   ]
  },
  {
   "cell_type": "code",
   "execution_count": 30,
   "metadata": {},
   "outputs": [
    {
     "data": {
      "text/html": [
       "<div>\n",
       "<style scoped>\n",
       "    .dataframe tbody tr th:only-of-type {\n",
       "        vertical-align: middle;\n",
       "    }\n",
       "\n",
       "    .dataframe tbody tr th {\n",
       "        vertical-align: top;\n",
       "    }\n",
       "\n",
       "    .dataframe thead th {\n",
       "        text-align: right;\n",
       "    }\n",
       "</style>\n",
       "<table border=\"1\" class=\"dataframe\">\n",
       "  <thead>\n",
       "    <tr style=\"text-align: right;\">\n",
       "      <th></th>\n",
       "      <th>index</th>\n",
       "      <th>key</th>\n",
       "      <th>pickup_datetime</th>\n",
       "      <th>pickup_longitude</th>\n",
       "      <th>pickup_latitude</th>\n",
       "      <th>dropoff_longitude</th>\n",
       "      <th>dropoff_latitude</th>\n",
       "      <th>passenger_count</th>\n",
       "      <th>pickup_timezone</th>\n",
       "      <th>pickup_datetime_obj</th>\n",
       "      <th>pickup_year</th>\n",
       "      <th>pickup_month</th>\n",
       "      <th>pickup_day</th>\n",
       "      <th>pickup_hour</th>\n",
       "      <th>pickup_minute</th>\n",
       "      <th>pickup_second</th>\n",
       "      <th>pickup_weekday</th>\n",
       "      <th>pickup_dropoff_distance</th>\n",
       "    </tr>\n",
       "  </thead>\n",
       "  <tbody>\n",
       "    <tr>\n",
       "      <th>0</th>\n",
       "      <td>0</td>\n",
       "      <td>2015-01-27 13:08:24.0000002</td>\n",
       "      <td>2015-01-27 13:08:24 UTC</td>\n",
       "      <td>-73.973320</td>\n",
       "      <td>40.763805</td>\n",
       "      <td>-73.981430</td>\n",
       "      <td>40.743835</td>\n",
       "      <td>1</td>\n",
       "      <td>UTC</td>\n",
       "      <td>2015-01-27 13:08:24</td>\n",
       "      <td>2015</td>\n",
       "      <td>1</td>\n",
       "      <td>27</td>\n",
       "      <td>13</td>\n",
       "      <td>8</td>\n",
       "      <td>24</td>\n",
       "      <td>1</td>\n",
       "      <td>2.323260</td>\n",
       "    </tr>\n",
       "    <tr>\n",
       "      <th>1</th>\n",
       "      <td>1</td>\n",
       "      <td>2015-01-27 13:08:24.0000003</td>\n",
       "      <td>2015-01-27 13:08:24 UTC</td>\n",
       "      <td>-73.986862</td>\n",
       "      <td>40.719383</td>\n",
       "      <td>-73.998886</td>\n",
       "      <td>40.739201</td>\n",
       "      <td>1</td>\n",
       "      <td>UTC</td>\n",
       "      <td>2015-01-27 13:08:24</td>\n",
       "      <td>2015</td>\n",
       "      <td>1</td>\n",
       "      <td>27</td>\n",
       "      <td>13</td>\n",
       "      <td>8</td>\n",
       "      <td>24</td>\n",
       "      <td>1</td>\n",
       "      <td>2.425353</td>\n",
       "    </tr>\n",
       "    <tr>\n",
       "      <th>2</th>\n",
       "      <td>2</td>\n",
       "      <td>2011-10-08 11:53:44.0000002</td>\n",
       "      <td>2011-10-08 11:53:44 UTC</td>\n",
       "      <td>-73.982524</td>\n",
       "      <td>40.751260</td>\n",
       "      <td>-73.979654</td>\n",
       "      <td>40.746139</td>\n",
       "      <td>1</td>\n",
       "      <td>UTC</td>\n",
       "      <td>2011-10-08 11:53:44</td>\n",
       "      <td>2011</td>\n",
       "      <td>10</td>\n",
       "      <td>8</td>\n",
       "      <td>11</td>\n",
       "      <td>53</td>\n",
       "      <td>44</td>\n",
       "      <td>5</td>\n",
       "      <td>0.618628</td>\n",
       "    </tr>\n",
       "    <tr>\n",
       "      <th>3</th>\n",
       "      <td>3</td>\n",
       "      <td>2012-12-01 21:12:12.0000002</td>\n",
       "      <td>2012-12-01 21:12:12 UTC</td>\n",
       "      <td>-73.981160</td>\n",
       "      <td>40.767807</td>\n",
       "      <td>-73.990448</td>\n",
       "      <td>40.751635</td>\n",
       "      <td>1</td>\n",
       "      <td>UTC</td>\n",
       "      <td>2012-12-01 21:12:12</td>\n",
       "      <td>2012</td>\n",
       "      <td>12</td>\n",
       "      <td>1</td>\n",
       "      <td>21</td>\n",
       "      <td>12</td>\n",
       "      <td>12</td>\n",
       "      <td>5</td>\n",
       "      <td>1.961033</td>\n",
       "    </tr>\n",
       "    <tr>\n",
       "      <th>4</th>\n",
       "      <td>4</td>\n",
       "      <td>2012-12-01 21:12:12.0000003</td>\n",
       "      <td>2012-12-01 21:12:12 UTC</td>\n",
       "      <td>-73.966046</td>\n",
       "      <td>40.789775</td>\n",
       "      <td>-73.988565</td>\n",
       "      <td>40.744427</td>\n",
       "      <td>1</td>\n",
       "      <td>UTC</td>\n",
       "      <td>2012-12-01 21:12:12</td>\n",
       "      <td>2012</td>\n",
       "      <td>12</td>\n",
       "      <td>1</td>\n",
       "      <td>21</td>\n",
       "      <td>12</td>\n",
       "      <td>12</td>\n",
       "      <td>5</td>\n",
       "      <td>5.387301</td>\n",
       "    </tr>\n",
       "  </tbody>\n",
       "</table>\n",
       "</div>"
      ],
      "text/plain": [
       "   index                          key          pickup_datetime  \\\n",
       "0      0  2015-01-27 13:08:24.0000002  2015-01-27 13:08:24 UTC   \n",
       "1      1  2015-01-27 13:08:24.0000003  2015-01-27 13:08:24 UTC   \n",
       "2      2  2011-10-08 11:53:44.0000002  2011-10-08 11:53:44 UTC   \n",
       "3      3  2012-12-01 21:12:12.0000002  2012-12-01 21:12:12 UTC   \n",
       "4      4  2012-12-01 21:12:12.0000003  2012-12-01 21:12:12 UTC   \n",
       "\n",
       "   pickup_longitude  pickup_latitude  dropoff_longitude  dropoff_latitude  \\\n",
       "0        -73.973320        40.763805         -73.981430         40.743835   \n",
       "1        -73.986862        40.719383         -73.998886         40.739201   \n",
       "2        -73.982524        40.751260         -73.979654         40.746139   \n",
       "3        -73.981160        40.767807         -73.990448         40.751635   \n",
       "4        -73.966046        40.789775         -73.988565         40.744427   \n",
       "\n",
       "   passenger_count pickup_timezone pickup_datetime_obj  pickup_year  \\\n",
       "0                1             UTC 2015-01-27 13:08:24         2015   \n",
       "1                1             UTC 2015-01-27 13:08:24         2015   \n",
       "2                1             UTC 2011-10-08 11:53:44         2011   \n",
       "3                1             UTC 2012-12-01 21:12:12         2012   \n",
       "4                1             UTC 2012-12-01 21:12:12         2012   \n",
       "\n",
       "   pickup_month  pickup_day  pickup_hour  pickup_minute  pickup_second  \\\n",
       "0             1          27           13              8             24   \n",
       "1             1          27           13              8             24   \n",
       "2            10           8           11             53             44   \n",
       "3            12           1           21             12             12   \n",
       "4            12           1           21             12             12   \n",
       "\n",
       "   pickup_weekday  pickup_dropoff_distance  \n",
       "0               1                 2.323260  \n",
       "1               1                 2.425353  \n",
       "2               5                 0.618628  \n",
       "3               5                 1.961033  \n",
       "4               5                 5.387301  "
      ]
     },
     "execution_count": 30,
     "metadata": {},
     "output_type": "execute_result"
    }
   ],
   "source": [
    "test_df.head()"
   ]
  },
  {
   "cell_type": "code",
   "execution_count": 31,
   "metadata": {},
   "outputs": [
    {
     "data": {
      "text/html": [
       "<div>\n",
       "<style scoped>\n",
       "    .dataframe tbody tr th:only-of-type {\n",
       "        vertical-align: middle;\n",
       "    }\n",
       "\n",
       "    .dataframe tbody tr th {\n",
       "        vertical-align: top;\n",
       "    }\n",
       "\n",
       "    .dataframe thead th {\n",
       "        text-align: right;\n",
       "    }\n",
       "</style>\n",
       "<table border=\"1\" class=\"dataframe\">\n",
       "  <thead>\n",
       "    <tr style=\"text-align: right;\">\n",
       "      <th></th>\n",
       "      <th>index</th>\n",
       "      <th>pickup_longitude</th>\n",
       "      <th>pickup_latitude</th>\n",
       "      <th>dropoff_longitude</th>\n",
       "      <th>dropoff_latitude</th>\n",
       "      <th>passenger_count</th>\n",
       "      <th>pickup_year</th>\n",
       "      <th>pickup_month</th>\n",
       "      <th>pickup_day</th>\n",
       "      <th>pickup_hour</th>\n",
       "      <th>pickup_minute</th>\n",
       "      <th>pickup_second</th>\n",
       "      <th>pickup_weekday</th>\n",
       "      <th>pickup_dropoff_distance</th>\n",
       "    </tr>\n",
       "  </thead>\n",
       "  <tbody>\n",
       "    <tr>\n",
       "      <th>count</th>\n",
       "      <td>9914.000000</td>\n",
       "      <td>9914.000000</td>\n",
       "      <td>9914.000000</td>\n",
       "      <td>9914.000000</td>\n",
       "      <td>9914.000000</td>\n",
       "      <td>9914.000000</td>\n",
       "      <td>9914.000000</td>\n",
       "      <td>9914.000000</td>\n",
       "      <td>9914.000000</td>\n",
       "      <td>9914.000000</td>\n",
       "      <td>9914.000000</td>\n",
       "      <td>9914.000000</td>\n",
       "      <td>9914.000000</td>\n",
       "      <td>9914.000000</td>\n",
       "    </tr>\n",
       "    <tr>\n",
       "      <th>mean</th>\n",
       "      <td>4956.500000</td>\n",
       "      <td>-73.974722</td>\n",
       "      <td>40.751041</td>\n",
       "      <td>-73.973657</td>\n",
       "      <td>40.751743</td>\n",
       "      <td>1.671273</td>\n",
       "      <td>2011.815816</td>\n",
       "      <td>6.857979</td>\n",
       "      <td>16.194170</td>\n",
       "      <td>13.467420</td>\n",
       "      <td>29.548416</td>\n",
       "      <td>16.610853</td>\n",
       "      <td>2.852834</td>\n",
       "      <td>3.435371</td>\n",
       "    </tr>\n",
       "    <tr>\n",
       "      <th>std</th>\n",
       "      <td>2862.069618</td>\n",
       "      <td>0.042774</td>\n",
       "      <td>0.033541</td>\n",
       "      <td>0.039072</td>\n",
       "      <td>0.035435</td>\n",
       "      <td>1.278747</td>\n",
       "      <td>1.803347</td>\n",
       "      <td>3.353272</td>\n",
       "      <td>8.838482</td>\n",
       "      <td>6.868584</td>\n",
       "      <td>18.674818</td>\n",
       "      <td>19.571034</td>\n",
       "      <td>1.994451</td>\n",
       "      <td>3.972374</td>\n",
       "    </tr>\n",
       "    <tr>\n",
       "      <th>min</th>\n",
       "      <td>0.000000</td>\n",
       "      <td>-74.252193</td>\n",
       "      <td>40.573143</td>\n",
       "      <td>-74.263242</td>\n",
       "      <td>40.568973</td>\n",
       "      <td>1.000000</td>\n",
       "      <td>2009.000000</td>\n",
       "      <td>1.000000</td>\n",
       "      <td>1.000000</td>\n",
       "      <td>0.000000</td>\n",
       "      <td>0.000000</td>\n",
       "      <td>0.000000</td>\n",
       "      <td>0.000000</td>\n",
       "      <td>0.000000</td>\n",
       "    </tr>\n",
       "    <tr>\n",
       "      <th>25%</th>\n",
       "      <td>2478.250000</td>\n",
       "      <td>-73.992501</td>\n",
       "      <td>40.736125</td>\n",
       "      <td>-73.991247</td>\n",
       "      <td>40.735254</td>\n",
       "      <td>1.000000</td>\n",
       "      <td>2010.000000</td>\n",
       "      <td>4.000000</td>\n",
       "      <td>9.000000</td>\n",
       "      <td>8.000000</td>\n",
       "      <td>13.000000</td>\n",
       "      <td>0.000000</td>\n",
       "      <td>1.000000</td>\n",
       "      <td>1.298277</td>\n",
       "    </tr>\n",
       "    <tr>\n",
       "      <th>50%</th>\n",
       "      <td>4956.500000</td>\n",
       "      <td>-73.982326</td>\n",
       "      <td>40.753051</td>\n",
       "      <td>-73.980015</td>\n",
       "      <td>40.754065</td>\n",
       "      <td>1.000000</td>\n",
       "      <td>2012.000000</td>\n",
       "      <td>7.000000</td>\n",
       "      <td>16.000000</td>\n",
       "      <td>15.000000</td>\n",
       "      <td>33.000000</td>\n",
       "      <td>6.000000</td>\n",
       "      <td>3.000000</td>\n",
       "      <td>2.217412</td>\n",
       "    </tr>\n",
       "    <tr>\n",
       "      <th>75%</th>\n",
       "      <td>7434.750000</td>\n",
       "      <td>-73.968013</td>\n",
       "      <td>40.767113</td>\n",
       "      <td>-73.964059</td>\n",
       "      <td>40.768757</td>\n",
       "      <td>2.000000</td>\n",
       "      <td>2014.000000</td>\n",
       "      <td>10.000000</td>\n",
       "      <td>25.000000</td>\n",
       "      <td>19.000000</td>\n",
       "      <td>45.000000</td>\n",
       "      <td>33.000000</td>\n",
       "      <td>5.000000</td>\n",
       "      <td>4.045302</td>\n",
       "    </tr>\n",
       "    <tr>\n",
       "      <th>max</th>\n",
       "      <td>9913.000000</td>\n",
       "      <td>-72.986532</td>\n",
       "      <td>41.709555</td>\n",
       "      <td>-72.990963</td>\n",
       "      <td>41.696683</td>\n",
       "      <td>6.000000</td>\n",
       "      <td>2015.000000</td>\n",
       "      <td>12.000000</td>\n",
       "      <td>31.000000</td>\n",
       "      <td>23.000000</td>\n",
       "      <td>59.000000</td>\n",
       "      <td>59.000000</td>\n",
       "      <td>6.000000</td>\n",
       "      <td>99.996040</td>\n",
       "    </tr>\n",
       "  </tbody>\n",
       "</table>\n",
       "</div>"
      ],
      "text/plain": [
       "             index  pickup_longitude  pickup_latitude  dropoff_longitude  \\\n",
       "count  9914.000000       9914.000000      9914.000000        9914.000000   \n",
       "mean   4956.500000        -73.974722        40.751041         -73.973657   \n",
       "std    2862.069618          0.042774         0.033541           0.039072   \n",
       "min       0.000000        -74.252193        40.573143         -74.263242   \n",
       "25%    2478.250000        -73.992501        40.736125         -73.991247   \n",
       "50%    4956.500000        -73.982326        40.753051         -73.980015   \n",
       "75%    7434.750000        -73.968013        40.767113         -73.964059   \n",
       "max    9913.000000        -72.986532        41.709555         -72.990963   \n",
       "\n",
       "       dropoff_latitude  passenger_count  pickup_year  pickup_month  \\\n",
       "count       9914.000000      9914.000000  9914.000000   9914.000000   \n",
       "mean          40.751743         1.671273  2011.815816      6.857979   \n",
       "std            0.035435         1.278747     1.803347      3.353272   \n",
       "min           40.568973         1.000000  2009.000000      1.000000   \n",
       "25%           40.735254         1.000000  2010.000000      4.000000   \n",
       "50%           40.754065         1.000000  2012.000000      7.000000   \n",
       "75%           40.768757         2.000000  2014.000000     10.000000   \n",
       "max           41.696683         6.000000  2015.000000     12.000000   \n",
       "\n",
       "        pickup_day  pickup_hour  pickup_minute  pickup_second  pickup_weekday  \\\n",
       "count  9914.000000  9914.000000    9914.000000    9914.000000     9914.000000   \n",
       "mean     16.194170    13.467420      29.548416      16.610853        2.852834   \n",
       "std       8.838482     6.868584      18.674818      19.571034        1.994451   \n",
       "min       1.000000     0.000000       0.000000       0.000000        0.000000   \n",
       "25%       9.000000     8.000000      13.000000       0.000000        1.000000   \n",
       "50%      16.000000    15.000000      33.000000       6.000000        3.000000   \n",
       "75%      25.000000    19.000000      45.000000      33.000000        5.000000   \n",
       "max      31.000000    23.000000      59.000000      59.000000        6.000000   \n",
       "\n",
       "       pickup_dropoff_distance  \n",
       "count              9914.000000  \n",
       "mean                  3.435371  \n",
       "std                   3.972374  \n",
       "min                   0.000000  \n",
       "25%                   1.298277  \n",
       "50%                   2.217412  \n",
       "75%                   4.045302  \n",
       "max                  99.996040  "
      ]
     },
     "execution_count": 31,
     "metadata": {},
     "output_type": "execute_result"
    }
   ],
   "source": [
    "test_df.describe()"
   ]
  },
  {
   "cell_type": "code",
   "execution_count": 32,
   "metadata": {},
   "outputs": [
    {
     "name": "stdout",
     "output_type": "stream",
     "text": [
      "<class 'pandas.core.frame.DataFrame'>\n",
      "RangeIndex: 9914 entries, 0 to 9913\n",
      "Data columns (total 18 columns):\n",
      "index                      9914 non-null int64\n",
      "key                        9914 non-null object\n",
      "pickup_datetime            9914 non-null object\n",
      "pickup_longitude           9914 non-null float64\n",
      "pickup_latitude            9914 non-null float64\n",
      "dropoff_longitude          9914 non-null float64\n",
      "dropoff_latitude           9914 non-null float64\n",
      "passenger_count            9914 non-null int64\n",
      "pickup_timezone            9914 non-null object\n",
      "pickup_datetime_obj        9914 non-null datetime64[ns]\n",
      "pickup_year                9914 non-null int64\n",
      "pickup_month               9914 non-null int64\n",
      "pickup_day                 9914 non-null int64\n",
      "pickup_hour                9914 non-null int64\n",
      "pickup_minute              9914 non-null int64\n",
      "pickup_second              9914 non-null int64\n",
      "pickup_weekday             9914 non-null int64\n",
      "pickup_dropoff_distance    9914 non-null float64\n",
      "dtypes: datetime64[ns](1), float64(5), int64(9), object(3)\n",
      "memory usage: 1.4+ MB\n"
     ]
    }
   ],
   "source": [
    "test_df.info()"
   ]
  },
  {
   "cell_type": "markdown",
   "metadata": {},
   "source": [
    "## datetime"
   ]
  },
  {
   "cell_type": "code",
   "execution_count": 33,
   "metadata": {},
   "outputs": [
    {
     "data": {
      "text/plain": [
       "<matplotlib.axes._subplots.AxesSubplot at 0x7fe2f5fa5860>"
      ]
     },
     "execution_count": 33,
     "metadata": {},
     "output_type": "execute_result"
    },
    {
     "data": {
      "image/png": "[encoded data removed]",
      "text/plain": [
       "<Figure size 432x288 with 1 Axes>"
      ]
     },
     "metadata": {},
     "output_type": "display_data"
    }
   ],
   "source": [
    "test_df['pickup_year'].value_counts(sort=False).plot(kind='bar')"
   ]
  },
  {
   "cell_type": "code",
   "execution_count": 34,
   "metadata": {},
   "outputs": [
    {
     "data": {
      "text/plain": [
       "<matplotlib.axes._subplots.AxesSubplot at 0x7fe2f62b9c18>"
      ]
     },
     "execution_count": 34,
     "metadata": {},
     "output_type": "execute_result"
    },
    {
     "data": {
      "image/png": "[encoded data removed]",
      "text/plain": [
       "<Figure size 432x288 with 1 Axes>"
      ]
     },
     "metadata": {},
     "output_type": "display_data"
    }
   ],
   "source": [
    "test_df['pickup_month'].value_counts(sort=False).plot(kind='bar')"
   ]
  },
  {
   "cell_type": "code",
   "execution_count": 35,
   "metadata": {},
   "outputs": [
    {
     "data": {
      "text/plain": [
       "<matplotlib.axes._subplots.AxesSubplot at 0x7fe2f6235d68>"
      ]
     },
     "execution_count": 35,
     "metadata": {},
     "output_type": "execute_result"
    },
    {
     "data": {
      "image/png": "[encoded data removed]",
      "text/plain": [
       "<Figure size 432x288 with 1 Axes>"
      ]
     },
     "metadata": {},
     "output_type": "display_data"
    }
   ],
   "source": [
    "test_df['pickup_day'].value_counts(sort=False).plot(kind='bar')"
   ]
  }
 ],
 "metadata": {
  "kernelspec": {
   "display_name": "Python 3",
   "language": "python",
   "name": "python3"
  },
  "language_info": {
   "codemirror_mode": {
    "name": "ipython",
    "version": 3
   },
   "file_extension": ".py",
   "mimetype": "text/x-python",
   "name": "python",
   "nbconvert_exporter": "python",
   "pygments_lexer": "ipython3",
   "version": "3.6.4"
  }
 },
 "nbformat": 4,
 "nbformat_minor": 1
}
