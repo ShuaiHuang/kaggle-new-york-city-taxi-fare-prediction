{
 "cells": [
  {
   "cell_type": "markdown",
   "metadata": {
    "collapsed": true
   },
   "source": [
    "# Exploratory Data Analysis"
   ]
  },
  {
   "cell_type": "code",
   "execution_count": 1,
   "metadata": {},
   "outputs": [],
   "source": [
    "import os\n",
    "import pandas as pd"
   ]
  },
  {
   "cell_type": "code",
   "execution_count": 2,
   "metadata": {},
   "outputs": [],
   "source": [
    "TRAIN_FILENAME = '../data/data-for-processing/chunk_011_train.csv'"
   ]
  },
  {
   "cell_type": "code",
   "execution_count": 3,
   "metadata": {},
   "outputs": [],
   "source": [
    "df = pd.read_csv(TRAIN_FILENAME)"
   ]
  },
  {
   "cell_type": "code",
   "execution_count": 4,
   "metadata": {},
   "outputs": [
    {
     "name": "stdout",
     "output_type": "stream",
     "text": [
      "<class 'pandas.core.frame.DataFrame'>\n",
      "RangeIndex: 423856 entries, 0 to 423855\n",
      "Data columns (total 8 columns):\n",
      "key                  423856 non-null object\n",
      "fare_amount          423856 non-null float64\n",
      "pickup_datetime      423856 non-null object\n",
      "pickup_longitude     423856 non-null float64\n",
      "pickup_latitude      423856 non-null float64\n",
      "dropoff_longitude    423855 non-null float64\n",
      "dropoff_latitude     423855 non-null float64\n",
      "passenger_count      423856 non-null int64\n",
      "dtypes: float64(5), int64(1), object(2)\n",
      "memory usage: 25.9+ MB\n"
     ]
    }
   ],
   "source": [
    "df.info()"
   ]
  },
  {
   "cell_type": "code",
   "execution_count": 6,
   "metadata": {},
   "outputs": [
    {
     "data": {
      "text/html": [
       "<div>\n",
       "<style scoped>\n",
       "    .dataframe tbody tr th:only-of-type {\n",
       "        vertical-align: middle;\n",
       "    }\n",
       "\n",
       "    .dataframe tbody tr th {\n",
       "        vertical-align: top;\n",
       "    }\n",
       "\n",
       "    .dataframe thead th {\n",
       "        text-align: right;\n",
       "    }\n",
       "</style>\n",
       "<table border=\"1\" class=\"dataframe\">\n",
       "  <thead>\n",
       "    <tr style=\"text-align: right;\">\n",
       "      <th></th>\n",
       "      <th>key</th>\n",
       "      <th>fare_amount</th>\n",
       "      <th>pickup_datetime</th>\n",
       "      <th>pickup_longitude</th>\n",
       "      <th>pickup_latitude</th>\n",
       "      <th>dropoff_longitude</th>\n",
       "      <th>dropoff_latitude</th>\n",
       "      <th>passenger_count</th>\n",
       "    </tr>\n",
       "  </thead>\n",
       "  <tbody>\n",
       "    <tr>\n",
       "      <th>0</th>\n",
       "      <td>2009-06-30 09:25:00.00000094</td>\n",
       "      <td>6.5</td>\n",
       "      <td>2009-06-30 09:25:00 UTC</td>\n",
       "      <td>-73.99042</td>\n",
       "      <td>40.718840</td>\n",
       "      <td>-74.000060</td>\n",
       "      <td>40.727894</td>\n",
       "      <td>1</td>\n",
       "    </tr>\n",
       "    <tr>\n",
       "      <th>1</th>\n",
       "      <td>2009-09-28 18:04:43.0000001</td>\n",
       "      <td>5.7</td>\n",
       "      <td>2009-09-28 18:04:43 UTC</td>\n",
       "      <td>-73.97476</td>\n",
       "      <td>40.749065</td>\n",
       "      <td>-73.983955</td>\n",
       "      <td>40.736130</td>\n",
       "      <td>1</td>\n",
       "    </tr>\n",
       "    <tr>\n",
       "      <th>2</th>\n",
       "      <td>2010-05-22 22:54:51.0000003</td>\n",
       "      <td>10.9</td>\n",
       "      <td>2010-05-22 22:54:51 UTC</td>\n",
       "      <td>-73.98173</td>\n",
       "      <td>40.722240</td>\n",
       "      <td>-74.006420</td>\n",
       "      <td>40.708412</td>\n",
       "      <td>1</td>\n",
       "    </tr>\n",
       "    <tr>\n",
       "      <th>3</th>\n",
       "      <td>2013-10-24 20:03:46.0000004</td>\n",
       "      <td>8.0</td>\n",
       "      <td>2013-10-24 20:03:46 UTC</td>\n",
       "      <td>-73.99038</td>\n",
       "      <td>40.751507</td>\n",
       "      <td>-74.005200</td>\n",
       "      <td>40.741460</td>\n",
       "      <td>2</td>\n",
       "    </tr>\n",
       "    <tr>\n",
       "      <th>4</th>\n",
       "      <td>2013-12-20 00:52:00.00000041</td>\n",
       "      <td>9.5</td>\n",
       "      <td>2013-12-20 00:52:00 UTC</td>\n",
       "      <td>-73.97743</td>\n",
       "      <td>40.668260</td>\n",
       "      <td>-73.951930</td>\n",
       "      <td>40.683826</td>\n",
       "      <td>1</td>\n",
       "    </tr>\n",
       "  </tbody>\n",
       "</table>\n",
       "</div>"
      ],
      "text/plain": [
       "                            key  fare_amount          pickup_datetime  \\\n",
       "0  2009-06-30 09:25:00.00000094          6.5  2009-06-30 09:25:00 UTC   \n",
       "1   2009-09-28 18:04:43.0000001          5.7  2009-09-28 18:04:43 UTC   \n",
       "2   2010-05-22 22:54:51.0000003         10.9  2010-05-22 22:54:51 UTC   \n",
       "3   2013-10-24 20:03:46.0000004          8.0  2013-10-24 20:03:46 UTC   \n",
       "4  2013-12-20 00:52:00.00000041          9.5  2013-12-20 00:52:00 UTC   \n",
       "\n",
       "   pickup_longitude  pickup_latitude  dropoff_longitude  dropoff_latitude  \\\n",
       "0         -73.99042        40.718840         -74.000060         40.727894   \n",
       "1         -73.97476        40.749065         -73.983955         40.736130   \n",
       "2         -73.98173        40.722240         -74.006420         40.708412   \n",
       "3         -73.99038        40.751507         -74.005200         40.741460   \n",
       "4         -73.97743        40.668260         -73.951930         40.683826   \n",
       "\n",
       "   passenger_count  \n",
       "0                1  \n",
       "1                1  \n",
       "2                1  \n",
       "3                2  \n",
       "4                1  "
      ]
     },
     "execution_count": 6,
     "metadata": {},
     "output_type": "execute_result"
    }
   ],
   "source": [
    "df.head()"
   ]
  },
  {
   "cell_type": "markdown",
   "metadata": {},
   "source": [
    "- `pickup_datetime`进行如下拆分:\n",
    "    + `pickup_year`\n",
    "    + `pickup_month`\n",
    "    + `pickup_day`\n",
    "    + `pickup_hour`\n",
    "    + `pickup_min`\n",
    "    + `pickup_sec`\n",
    "    + `pickup_timezone`\n",
    "    + `pickup_weekday`"
   ]
  }
 ],
 "metadata": {
  "kernelspec": {
   "display_name": "Python 3",
   "language": "python",
   "name": "python3"
  },
  "language_info": {
   "codemirror_mode": {
    "name": "ipython",
    "version": 3
   },
   "file_extension": ".py",
   "mimetype": "text/x-python",
   "name": "python",
   "nbconvert_exporter": "python",
   "pygments_lexer": "ipython3",
   "version": "3.6.4"
  }
 },
 "nbformat": 4,
 "nbformat_minor": 1
}
